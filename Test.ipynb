{
 "cells": [
  {
   "cell_type": "markdown",
   "metadata": {},
   "source": [
    "# Test Functions"
   ]
  },
  {
   "cell_type": "markdown",
   "metadata": {},
   "source": [
    "## Description\n",
    "This notebook is done so that we can have a new way of testing our models, based on the validation set from Wider Face. This starts by restructuring the text file so that the calculations to check if it's correct or not is simpler, and we get the number of True Poistives, False Positives and False Negatives in a very easy way."
   ]
  },
  {
   "cell_type": "code",
   "execution_count": 26,
   "metadata": {},
   "outputs": [],
   "source": [
    "import cv2"
   ]
  },
  {
   "cell_type": "code",
   "execution_count": 34,
   "metadata": {},
   "outputs": [],
   "source": [
    "def rewrite_test_file(original_dir, images_dir, new_dir, new_images_dir, limit_faces):\n",
    "    counter = 0\n",
    "    with open(original_dir, \"r\") as reader, open(new_dir, \"w\") as writer:\n",
    "        while True:\n",
    "            # First line is the directory to the image, we need to remove the folder it's in, as all images will be together\n",
    "            file_dir = reader.readline()\n",
    "            img_name = file_dir.split(\"/\")[1]\n",
    "            writer.write(img_name)\n",
    "            \n",
    "            # Get the image in the directory\n",
    "            img = cv2.imread(images_dir + file_dir[:-1])\n",
    "            \n",
    "            #Write it on the new images' directory, under the saved name\n",
    "            cv2.imwrite(new_images_dir + img_name, img)\n",
    "\n",
    "            # Second line is the number of faces in the picture\n",
    "            number_faces = reader.readline()\n",
    "            writer.write(number_faces)\n",
    "            \n",
    "            if number_faces == \"0\":\n",
    "                reader.readline()\n",
    "                continue\n",
    "\n",
    "            for face in range(int(number_faces)):\n",
    "                x,y,w,h = [int(elem) for elem in reader.readline().split()[:4]]\n",
    "                x -= 3\n",
    "                y -= 3\n",
    "                end_x = x + w + 6\n",
    "                end_y = y + h + 6\n",
    "\n",
    "                # what we'll write is the start and end coords for the region where a face might be\n",
    "                writer.write(\" \".join([str(elem) for elem in [x, y, end_x, end_y]]))\n",
    "                writer.write(\"\\n\")\n",
    "            counter += int(number_faces)\n",
    "            if counter > limit_faces:\n",
    "                return"
   ]
  },
  {
   "cell_type": "code",
   "execution_count": 37,
   "metadata": {},
   "outputs": [],
   "source": [
    "rewrite_test_file(\"./Image Resources/Dataset/wider_face_split/wider_face_val_bbx_gt.txt\",\n",
    "                  \"./Image Resources/Dataset/WIDER_val/images/\", \n",
    "                  \"./Image Resources/Dataset/WIDER_test/test.txt\", \n",
    "                  \"./Image Resources/Dataset/WIDER_test/images/\",\n",
    "                  20000)"
   ]
  },
  {
   "cell_type": "code",
   "execution_count": null,
   "metadata": {},
   "outputs": [],
   "source": [
    "def compare_results(results_file, expected_file):\n",
    "    image_faces = {}\n",
    "    with open(expected_file, \"r\") as reader:\n",
    "        while True:\n",
    "            image_dir = reader.readline()\n",
    "            if not image_dir: \n",
    "                break\n",
    "            image_faces[image_dir] = []\n",
    "            num_faces = int(reader.readline())\n",
    "            for i in range(num_faces):\n",
    "                image_faces[image_dir].append([int(elem) for elem in reader.readline().rstrip().split()])\n",
    "    true_pos = 0\n",
    "    false_pos = 0\n",
    "    false_neg = 0\n",
    "    with open(results_file, \"r\") as reader:\n",
    "        while True:\n",
    "            image_dir = reader.readline()\n",
    "            if not image_dir:\n",
    "                return true_pos, false_pos, false_neg\n",
    "            expected_images = image_faces[image_dir]\n",
    "            num_found_faces = int(reader.readline())\n",
    "            for i in range(num_found_faces):\n",
    "                start_x, start_y, width, height = [int(elem) for elem in reader.readline().split()]\n",
    "                ## In order to be recognized as a face, it has to be within bounds, therfore\n",
    "                compatible_index = -1\n",
    "                for i in range(len(expected_images)):\n",
    "                    expected_face = expected_images[i]\n",
    "                    if start_x > expected_face[0] and start_y > expected_face[1] \\\n",
    "                    and start_x + width < expected_face[2] and start_y < expected_face[3]:\n",
    "                        compatible_index = i\n",
    "                        break\n",
    "                if compatible_index != -1:\n",
    "                    true_pos += 1\n",
    "                    expected_images.pop(compatible_index)\n",
    "                else:\n",
    "                    false_pos += 1\n",
    "            false_neg += len(expected_images)\n",
    "                \n",
    "            "
   ]
  }
 ],
 "metadata": {
  "kernelspec": {
   "display_name": "Python 3",
   "language": "python",
   "name": "python3"
  },
  "language_info": {
   "codemirror_mode": {
    "name": "ipython",
    "version": 3
   },
   "file_extension": ".py",
   "mimetype": "text/x-python",
   "name": "python",
   "nbconvert_exporter": "python",
   "pygments_lexer": "ipython3",
   "version": "3.7.4"
  }
 },
 "nbformat": 4,
 "nbformat_minor": 2
}
