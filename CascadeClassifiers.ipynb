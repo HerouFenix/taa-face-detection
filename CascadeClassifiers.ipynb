{
 "cells": [
  {
   "cell_type": "markdown",
   "metadata": {},
   "source": [
    "# Face Detection using Cascade Classifier"
   ]
  },
  {
   "cell_type": "markdown",
   "metadata": {},
   "source": [
    "## Description\n",
    "Face Detection is a computer vision problem that aims to attempt to accurately identify human faces that may, or may not, be present in a given photograph or video. Many efforts have been directed at this problem since the early 2000's, with it having started as a subbranch of the problem of Object-Class Detection but having evolved into a main focus of machine learning algorithms due to its prevalence and paramountcy to the paradigm of Facial Recognition, another problem that is nowadays used in a wide-branch of technologies and biometrics."
   ]
  },
  {
   "cell_type": "markdown",
   "metadata": {},
   "source": [
    "## Face Detection Function"
   ]
  },
  {
   "cell_type": "markdown",
   "metadata": {},
   "source": [
    "### Imports"
   ]
  },
  {
   "cell_type": "code",
   "execution_count": 1,
   "metadata": {},
   "outputs": [],
   "source": [
    "import cv2\n",
    "import os\n",
    "from os import listdir\n",
    "from os.path import isfile, join\n",
    "import time\n",
    "from matplotlib import pyplot as plt"
   ]
  },
  {
   "cell_type": "markdown",
   "metadata": {},
   "source": [
    "### Initialize Cascade Classifier"
   ]
  },
  {
   "cell_type": "code",
   "execution_count": 2,
   "metadata": {},
   "outputs": [],
   "source": [
    "def initCascade(path):\n",
    "    cascadeClassifier = cv2.CascadeClassifier()\n",
    "    \n",
    "    # Try to load the model\n",
    "    if not cascadeClassifier.load(cv2.samples.findFile(path)):\n",
    "        print(\"Error - Unable to load classifier\")\n",
    "        exit(0)\n",
    "    \n",
    "    return cascadeClassifier"
   ]
  },
  {
   "cell_type": "markdown",
   "metadata": {},
   "source": [
    "### Detect Faces"
   ]
  },
  {
   "cell_type": "code",
   "execution_count": 3,
   "metadata": {},
   "outputs": [],
   "source": [
    "def detectFaces(classifier, imgPath, scaleFactor = 1.1, minNeighbors = 3):\n",
    "    img = cv2.imread(imgPath)\n",
    "    img = cv2.cvtColor(img, cv2.COLOR_BGR2GRAY)\n",
    "    \n",
    "    # Get the Faces\n",
    "    faces = classifier.detectMultiScale(\n",
    "        img,\n",
    "        scaleFactor,\n",
    "        minNeighbors,\n",
    "    )\n",
    "    \n",
    "    #print(faces)\n",
    "    \n",
    "    return faces"
   ]
  },
  {
   "cell_type": "markdown",
   "metadata": {},
   "source": [
    "### Draw Boxes"
   ]
  },
  {
   "cell_type": "code",
   "execution_count": 4,
   "metadata": {},
   "outputs": [],
   "source": [
    "def drawBoxes(imgPath, rects):\n",
    "    img = cv2.imread(imgPath)\n",
    "\n",
    "    # Draw the bounding boxes\n",
    "    for (x,y,w,h) in faces:\n",
    "        cv2.rectangle(img, (x,y), (x+w, y+h), (0,0,255), 3)\n",
    "    \n",
    "    cv2.imshow(\"Detected Faces\", img)\n",
    "    cv2.waitKey(0)\n",
    "    cv2.destroyAllWindows()"
   ]
  },
  {
   "cell_type": "markdown",
   "metadata": {},
   "source": [
    "### Write Results"
   ]
  },
  {
   "cell_type": "code",
   "execution_count": 5,
   "metadata": {},
   "outputs": [],
   "source": [
    "def writeResults(path, faces, filename):\n",
    "    with open(\"./CascadeClassifier/pred/\"+filename, \"a\") as writer:\n",
    "        #print(\"Writing results for image \" + path.split(\"/\")[1])\n",
    "        writer.write(path.split(\"/\")[-1].rstrip()+\"\\n\")\n",
    "        writer.write(str(len(faces))+\"\\n\")\n",
    "        \n",
    "        for (x,y,w,h) in faces:\n",
    "            faceCoords = str(x)+\" \"+str(y)+\" \"+str(w)+\" \"+str(h)\n",
    "            \n",
    "            writer.write(faceCoords+\"\\n\")\n",
    "        "
   ]
  },
  {
   "cell_type": "markdown",
   "metadata": {},
   "source": [
    "### Compare Results"
   ]
  },
  {
   "cell_type": "code",
   "execution_count": 6,
   "metadata": {},
   "outputs": [],
   "source": [
    "def compare_results(results_file, expected_file):\n",
    "    image_faces = {}\n",
    "    \n",
    "    with open(expected_file, \"r\") as reader:\n",
    "        while True:\n",
    "            image_dir = reader.readline()\n",
    "            if not image_dir: \n",
    "                break\n",
    "            image_faces[image_dir] = []\n",
    "            num_faces = int(reader.readline())\n",
    "            for i in range(num_faces):\n",
    "                image_faces[image_dir].append([int(elem) for elem in reader.readline().rstrip().split()])\n",
    "                \n",
    "    true_pos = 0\n",
    "    false_pos = 0\n",
    "    false_neg = 0\n",
    "    with open(results_file, \"r\") as reader:\n",
    "        while True:\n",
    "            image_dir = reader.readline()\n",
    "            \n",
    "            if not image_dir:\n",
    "                return true_pos, false_pos, false_neg\n",
    "            \n",
    "            expected_images = image_faces[image_dir]\n",
    "            num_found_faces = int(reader.readline())\n",
    "            \n",
    "            for i in range(num_found_faces):\n",
    "                start_x, start_y, width, height = [int(elem) for elem in reader.readline().split()]\n",
    "                ## In order to be recognized as a face, it has to be within bounds, therfore\n",
    "                compatible_index = -1\n",
    "                \n",
    "                for i in range(len(expected_images)):\n",
    "                    expected_face = expected_images[i]\n",
    "                    if start_x > expected_face[0] - 5 and start_y > expected_face[1] - 5 \\\n",
    "                    and start_x + width < expected_face[2] + 5 and start_y < expected_face[3] + 5:\n",
    "                        compatible_index = i\n",
    "                        break\n",
    "                        \n",
    "                if compatible_index != -1:\n",
    "                    true_pos += 1\n",
    "                    expected_images.pop(compatible_index)\n",
    "                else:\n",
    "                    false_pos += 1\n",
    "\n",
    "            false_neg += len(expected_images)"
   ]
  },
  {
   "cell_type": "markdown",
   "metadata": {},
   "source": [
    "### Compare Binary"
   ]
  },
  {
   "cell_type": "code",
   "execution_count": 7,
   "metadata": {},
   "outputs": [],
   "source": [
    "def compare_bin_results(img_dir, results):\n",
    "    true_pos = 0\n",
    "    true_neg = 0\n",
    "    false_pos = 0\n",
    "    false_neg = 0\n",
    "    with open(results, \"r\") as reader:\n",
    "        while True:\n",
    "            image = reader.readline().rstrip()\n",
    "            if not image:\n",
    "                return true_pos, true_neg, false_pos, false_neg\n",
    "            num_found_faces = int(reader.readline())\n",
    "            if num_found_faces == 0:\n",
    "                if image[0:3] == \"Pos\": \n",
    "                    false_neg += 1\n",
    "                else:\n",
    "                    true_neg += 1\n",
    "            for i in range(num_found_faces):\n",
    "                start_x, start_y, width, height = [int(elem) for elem in reader.readline().split()]\n",
    "                if image[0:3] == \"Pos\": #It's a positive image, we check if width and height are closer to the image\n",
    "                    true_pos += 1\n",
    "                    #real_height, real_width, _ = cv2.imread(img_dir + image).shape\n",
    "                    #if abs(real_width - width) < 0.25*real_width and abs(real_height - height) < 0.25*real_height:\n",
    "                    #    true_pos += 1\n",
    "                    #else:\n",
    "                    #    false_pos += 1\n",
    "                else:\n",
    "                    false_pos += 1"
   ]
  },
  {
   "cell_type": "markdown",
   "metadata": {},
   "source": [
    "## Pretrained Model - haarcascade_frontalface_default.xml"
   ]
  },
  {
   "cell_type": "markdown",
   "metadata": {},
   "source": [
    "In this section we will be using one of OpenCV's pretrained models for cascade classifier face detection."
   ]
  },
  {
   "cell_type": "code",
   "execution_count": 25,
   "metadata": {},
   "outputs": [],
   "source": [
    "#classifier = initCascade(\"./CascadeClassifier/haarcascade_frontalface_default.xml\")\n",
    "classifier = initCascade(\"./CascadeClassifier/haarcascade_frontalface_default.xml\")\n",
    "\n",
    "#Get values for a specific image\n",
    "path = \"./ImageResources/Dataset/WIDER_train/images/0--Parade/0_Parade_Parade_0_178.jpg\"\n",
    "path2 = \"./ImageResources/Dataset/WIDER_train/images/4--Dancing/4_Dancing_Dancing_4_138.jpg\"\n",
    "path3 = \"./dg.jpg\"\n",
    "\n",
    "\n",
    "faces = detectFaces(classifier, path3,  minNeighbors = 6)\n",
    "drawBoxes(path3, faces)\n"
   ]
  },
  {
   "cell_type": "markdown",
   "metadata": {},
   "source": [
    "### Default Values"
   ]
  },
  {
   "cell_type": "code",
   "execution_count": 11,
   "metadata": {},
   "outputs": [
    {
     "name": "stdout",
     "output_type": "stream",
     "text": [
      "It took 104.62989473342896 to finish results for the pretrained model stages\n",
      "Correctly found 1252\n",
      "Incorrectly found 3607\n",
      "Could not find 18753\n"
     ]
    },
    {
     "ename": "NameError",
     "evalue": "name 'compare_results_binary' is not defined",
     "output_type": "error",
     "traceback": [
      "\u001b[0;31m---------------------------------------------------------------------------\u001b[0m",
      "\u001b[0;31mNameError\u001b[0m                                 Traceback (most recent call last)",
      "\u001b[0;32m<ipython-input-11-538d0512dc4c>\u001b[0m in \u001b[0;36m<module>\u001b[0;34m\u001b[0m\n\u001b[1;32m     25\u001b[0m \u001b[0mprint\u001b[0m\u001b[0;34m(\u001b[0m\u001b[0;34m\"Could not find\"\u001b[0m\u001b[0;34m,\u001b[0m \u001b[0mfn_d\u001b[0m\u001b[0;34m)\u001b[0m\u001b[0;34m\u001b[0m\u001b[0;34m\u001b[0m\u001b[0m\n\u001b[1;32m     26\u001b[0m \u001b[0;34m\u001b[0m\u001b[0m\n\u001b[0;32m---> 27\u001b[0;31m \u001b[0mtp_d2\u001b[0m\u001b[0;34m,\u001b[0m \u001b[0mtn_d2\u001b[0m\u001b[0;34m,\u001b[0m \u001b[0mfp_d2\u001b[0m\u001b[0;34m,\u001b[0m \u001b[0mfn_d2\u001b[0m \u001b[0;34m=\u001b[0m \u001b[0mcompare_results_binary\u001b[0m\u001b[0;34m(\u001b[0m\u001b[0;34m\"./CascadeClassifier/pred/noTrain.txt\"\u001b[0m\u001b[0;34m,\u001b[0m \u001b[0manswers\u001b[0m\u001b[0;34m)\u001b[0m\u001b[0;34m\u001b[0m\u001b[0;34m\u001b[0m\u001b[0m\n\u001b[0m\u001b[1;32m     28\u001b[0m \u001b[0mprint\u001b[0m\u001b[0;34m(\u001b[0m\u001b[0;34m\"Correctly found\"\u001b[0m\u001b[0;34m,\u001b[0m \u001b[0mtp_d2\u001b[0m\u001b[0;34m)\u001b[0m\u001b[0;34m\u001b[0m\u001b[0;34m\u001b[0m\u001b[0m\n\u001b[1;32m     29\u001b[0m \u001b[0mprint\u001b[0m\u001b[0;34m(\u001b[0m\u001b[0;34m\"Correctly not found\"\u001b[0m\u001b[0;34m,\u001b[0m \u001b[0mtn_d2\u001b[0m\u001b[0;34m)\u001b[0m\u001b[0;34m\u001b[0m\u001b[0;34m\u001b[0m\u001b[0m\n",
      "\u001b[0;31mNameError\u001b[0m: name 'compare_results_binary' is not defined"
     ]
    }
   ],
   "source": [
    "# Get values for our Test Set\n",
    "\n",
    "path = \"./ImageResources/Dataset/WIDER_test/images\"\n",
    "\n",
    "classifier = initCascade(\"./CascadeClassifier/haarcascade_frontalface_default.xml\")\n",
    "\n",
    "results = open(\"./CascadeClassifier/pred/noTrain.txt\", \"w\")\n",
    "results.close()\n",
    "\n",
    "list_imgs = [join(path, f) for f in listdir(path) if isfile(join(path, f))]\n",
    "\n",
    "start = time.time()\n",
    "for img in list_imgs:\n",
    "    \n",
    "    faces = detectFaces(classifier, img)\n",
    "    writeResults(img,faces, \"noTrain.txt\")\n",
    "    \n",
    "end = time.time()\n",
    "print(\"It took \" + str(end - start) + \" to finish results for the pretrained model stages\")\n",
    "\n",
    "answers = \"./ImageResources/Dataset/WIDER_test/test.txt\"\n",
    "tp_d, fp_d, fn_d = compare_results(\"./CascadeClassifier/pred/noTrain.txt\", answers)\n",
    "print(\"Correctly found\", tp_d)\n",
    "print(\"Incorrectly found\", fp_d)\n",
    "print(\"Could not find\", fn_d)"
   ]
  },
  {
   "cell_type": "code",
   "execution_count": 15,
   "metadata": {},
   "outputs": [
    {
     "name": "stdout",
     "output_type": "stream",
     "text": [
      "It took 117.37798118591309 to finish results for the pretrained model stages\n",
      "Correctly found 835\n",
      "Correctly not found 9790\n",
      "Incorrectly found 249\n",
      "Could not find 9194\n"
     ]
    }
   ],
   "source": [
    "path = \"./ImageResources/Dataset/WIDER_test/cropped_images\"\n",
    "\n",
    "classifier = initCascade(\"./CascadeClassifier/haarcascade_frontalface_default.xml\")\n",
    "\n",
    "results = open(\"./CascadeClassifier/pred/noTrainBin.txt\", \"w\")\n",
    "results.close()\n",
    "\n",
    "list_imgs = [join(path, f) for f in listdir(path) if isfile(join(path, f))]\n",
    "\n",
    "start = time.time()\n",
    "for img in list_imgs:\n",
    "    \n",
    "    faces = detectFaces(classifier, img)\n",
    "    writeResults(img,faces, \"noTrainBin.txt\")\n",
    "    \n",
    "end = time.time()\n",
    "print(\"It took \" + str(end - start) + \" to finish results for the pretrained model stages\")\n",
    "\n",
    "tp_d2, tn_d2, fp_d2, fn_d2 = compare_bin_results(path, \"./CascadeClassifier/pred/noTrainBin.txt\")\n",
    "print(\"Correctly found\", tp_d2)\n",
    "print(\"Correctly not found\", tn_d2)\n",
    "print(\"Incorrectly found\", fp_d2)\n",
    "print(\"Could not find\", fn_d2)"
   ]
  },
  {
   "cell_type": "markdown",
   "metadata": {},
   "source": [
    "### Changing Neighbors"
   ]
  },
  {
   "cell_type": "code",
   "execution_count": 8,
   "metadata": {},
   "outputs": [
    {
     "name": "stdout",
     "output_type": "stream",
     "text": [
      "It took 129.7256646156311 to finish results for the pretrained model stages\n",
      "It took 137.95983815193176 to finish results for the pretrained model stages\n",
      "It took 157.30901551246643 to finish results for the pretrained model stages\n",
      "It took 161.6300950050354 to finish results for the pretrained model stages\n",
      "It took 143.19811415672302 to finish results for the pretrained model stages\n",
      "It took 165.48867392539978 to finish results for the pretrained model stages\n",
      "It took 167.16038346290588 to finish results for the pretrained model stages\n",
      "It took 167.54135036468506 to finish results for the pretrained model stages\n",
      "It took 160.36675810813904 to finish results for the pretrained model stages\n"
     ]
    }
   ],
   "source": [
    "path = \"./ImageResources/Dataset/WIDER_test/images\"\n",
    "answers = \"./ImageResources/Dataset/WIDER_test/test.txt\"\n",
    "bin_path = \"./ImageResources/Dataset/WIDER_test/cropped_images\"\n",
    "\n",
    "tp_arr = []\n",
    "fp_arr = []\n",
    "fn_arr = []\n",
    "\n",
    "tp_arr_b = []\n",
    "tn_arr_b = []\n",
    "fp_arr_b = []\n",
    "fn_arr_b = []\n",
    "\n",
    "acc_arr = []\n",
    "recall_arr = []\n",
    "\n",
    "acc_arr_b = []\n",
    "recall_arr_b = []\n",
    "\n",
    "for neighbours in range(1,10):\n",
    "    classifier = initCascade(\"./CascadeClassifier/haarcascade_frontalface_default.xml\")\n",
    "    \n",
    "    results = open(\"./CascadeClassifier/pred/noTrain.txt\", \"w\")\n",
    "    results.close()\n",
    "\n",
    "    list_imgs = [join(path, f) for f in listdir(path) if isfile(join(path, f))]\n",
    "\n",
    "    start = time.time()\n",
    "    for img in list_imgs:\n",
    "\n",
    "        faces = detectFaces(classifier, img, minNeighbors=neighbours)\n",
    "        writeResults(img,faces, \"noTrain.txt\")\n",
    "\n",
    "    end = time.time()\n",
    "    print(\"It took \" + str(end - start) + \" to finish results for the pretrained model stages\")\n",
    "    \n",
    "    tp, fp, fn = compare_results(\"./CascadeClassifier/pred/noTrain.txt\", answers)\n",
    "    \n",
    "    tp_arr.append(tp)\n",
    "    fp_arr.append(fp)\n",
    "    fn_arr.append(fn)\n",
    "    \n",
    "    results = open(\"./CascadeClassifier/pred/noTrainBin.txt\", \"w\")\n",
    "    results.close()\n",
    "\n",
    "    list_imgs = [join(bin_path, f) for f in listdir(bin_path) if isfile(join(bin_path, f))]\n",
    "\n",
    "    start = time.time()\n",
    "    for img in list_imgs:\n",
    "\n",
    "        faces = detectFaces(classifier, img, minNeighbors=neighbours)\n",
    "        writeResults(img,faces, \"noTrainBin.txt\")\n",
    "\n",
    "    end = time.time()\n",
    "    print(\"It took \" + str(end - start) + \" to finish results for the pretrained model stages\")\n",
    "\n",
    "    tp, tn, fp, fn = compare_bin_results(path, \"./CascadeClassifier/pred/noTrainBin.txt\")\n",
    "    \n",
    "    tp_arr_b.append(tp)\n",
    "    tn_arr_b.append(tn)\n",
    "    fp_arr_b.append(fp)\n",
    "    fn_arr_b.append(fn)\n",
    "\n"
   ]
  },
  {
   "cell_type": "code",
   "execution_count": 9,
   "metadata": {},
   "outputs": [
    {
     "name": "stdout",
     "output_type": "stream",
     "text": [
      "[1877, 1191, 835, 636, 509, 395, 316, 261, 222]\n",
      "[8987, 9561, 9790, 9882, 9920, 9945, 9960, 9975, 9984]\n",
      "[1486, 550, 249, 132, 87, 58, 43, 26, 17]\n",
      "[8303, 8880, 9194, 9377, 9494, 9603, 9680, 9735, 9774]\n"
     ]
    },
    {
     "ename": "ValueError",
     "evalue": "x and y must have same first dimension, but have shapes (9,) and (0,)",
     "output_type": "error",
     "traceback": [
      "\u001b[0;31m---------------------------------------------------------------------------\u001b[0m",
      "\u001b[0;31mValueError\u001b[0m                                Traceback (most recent call last)",
      "\u001b[0;32m<ipython-input-9-d754defe2814>\u001b[0m in \u001b[0;36m<module>\u001b[0;34m\u001b[0m\n\u001b[1;32m      7\u001b[0m \u001b[0mplt\u001b[0m\u001b[0;34m.\u001b[0m\u001b[0mfigure\u001b[0m\u001b[0;34m(\u001b[0m\u001b[0mfigsize\u001b[0m \u001b[0;34m=\u001b[0m \u001b[0;34m(\u001b[0m\u001b[0;36m20\u001b[0m\u001b[0;34m,\u001b[0m\u001b[0;36m7\u001b[0m\u001b[0;34m)\u001b[0m\u001b[0;34m)\u001b[0m\u001b[0;34m\u001b[0m\u001b[0;34m\u001b[0m\u001b[0m\n\u001b[1;32m      8\u001b[0m \u001b[0mplt\u001b[0m\u001b[0;34m.\u001b[0m\u001b[0msubplot\u001b[0m\u001b[0;34m(\u001b[0m\u001b[0;36m1\u001b[0m\u001b[0;34m,\u001b[0m\u001b[0;36m2\u001b[0m\u001b[0;34m,\u001b[0m\u001b[0;36m1\u001b[0m\u001b[0;34m)\u001b[0m\u001b[0;34m\u001b[0m\u001b[0;34m\u001b[0m\u001b[0m\n\u001b[0;32m----> 9\u001b[0;31m \u001b[0mplt\u001b[0m\u001b[0;34m.\u001b[0m\u001b[0mplot\u001b[0m\u001b[0;34m(\u001b[0m\u001b[0mrange\u001b[0m\u001b[0;34m(\u001b[0m\u001b[0;36m1\u001b[0m\u001b[0;34m,\u001b[0m\u001b[0;36m10\u001b[0m\u001b[0;34m)\u001b[0m\u001b[0;34m,\u001b[0m \u001b[0mtp_arr\u001b[0m\u001b[0;34m,\u001b[0m \u001b[0mcolor\u001b[0m\u001b[0;34m=\u001b[0m\u001b[0;34m\"#e33641\"\u001b[0m\u001b[0;34m)\u001b[0m\u001b[0;34m\u001b[0m\u001b[0;34m\u001b[0m\u001b[0m\n\u001b[0m\u001b[1;32m     10\u001b[0m \u001b[0mplt\u001b[0m\u001b[0;34m.\u001b[0m\u001b[0mxlabel\u001b[0m\u001b[0;34m(\u001b[0m\u001b[0;34m'minNeighbors'\u001b[0m\u001b[0;34m)\u001b[0m\u001b[0;34m\u001b[0m\u001b[0;34m\u001b[0m\u001b[0m\n\u001b[1;32m     11\u001b[0m \u001b[0mplt\u001b[0m\u001b[0;34m.\u001b[0m\u001b[0mylabel\u001b[0m\u001b[0;34m(\u001b[0m\u001b[0;34m'True Positives'\u001b[0m\u001b[0;34m)\u001b[0m\u001b[0;34m\u001b[0m\u001b[0;34m\u001b[0m\u001b[0m\n",
      "\u001b[0;32m~/.local/lib/python3.7/site-packages/matplotlib/pyplot.py\u001b[0m in \u001b[0;36mplot\u001b[0;34m(scalex, scaley, data, *args, **kwargs)\u001b[0m\n\u001b[1;32m   2761\u001b[0m     return gca().plot(\n\u001b[1;32m   2762\u001b[0m         *args, scalex=scalex, scaley=scaley, **({\"data\": data} if data\n\u001b[0;32m-> 2763\u001b[0;31m         is not None else {}), **kwargs)\n\u001b[0m\u001b[1;32m   2764\u001b[0m \u001b[0;34m\u001b[0m\u001b[0m\n\u001b[1;32m   2765\u001b[0m \u001b[0;34m\u001b[0m\u001b[0m\n",
      "\u001b[0;32m~/.local/lib/python3.7/site-packages/matplotlib/axes/_axes.py\u001b[0m in \u001b[0;36mplot\u001b[0;34m(self, scalex, scaley, data, *args, **kwargs)\u001b[0m\n\u001b[1;32m   1644\u001b[0m         \"\"\"\n\u001b[1;32m   1645\u001b[0m         \u001b[0mkwargs\u001b[0m \u001b[0;34m=\u001b[0m \u001b[0mcbook\u001b[0m\u001b[0;34m.\u001b[0m\u001b[0mnormalize_kwargs\u001b[0m\u001b[0;34m(\u001b[0m\u001b[0mkwargs\u001b[0m\u001b[0;34m,\u001b[0m \u001b[0mmlines\u001b[0m\u001b[0;34m.\u001b[0m\u001b[0mLine2D\u001b[0m\u001b[0;34m)\u001b[0m\u001b[0;34m\u001b[0m\u001b[0;34m\u001b[0m\u001b[0m\n\u001b[0;32m-> 1646\u001b[0;31m         \u001b[0mlines\u001b[0m \u001b[0;34m=\u001b[0m \u001b[0;34m[\u001b[0m\u001b[0;34m*\u001b[0m\u001b[0mself\u001b[0m\u001b[0;34m.\u001b[0m\u001b[0m_get_lines\u001b[0m\u001b[0;34m(\u001b[0m\u001b[0;34m*\u001b[0m\u001b[0margs\u001b[0m\u001b[0;34m,\u001b[0m \u001b[0mdata\u001b[0m\u001b[0;34m=\u001b[0m\u001b[0mdata\u001b[0m\u001b[0;34m,\u001b[0m \u001b[0;34m**\u001b[0m\u001b[0mkwargs\u001b[0m\u001b[0;34m)\u001b[0m\u001b[0;34m]\u001b[0m\u001b[0;34m\u001b[0m\u001b[0;34m\u001b[0m\u001b[0m\n\u001b[0m\u001b[1;32m   1647\u001b[0m         \u001b[0;32mfor\u001b[0m \u001b[0mline\u001b[0m \u001b[0;32min\u001b[0m \u001b[0mlines\u001b[0m\u001b[0;34m:\u001b[0m\u001b[0;34m\u001b[0m\u001b[0;34m\u001b[0m\u001b[0m\n\u001b[1;32m   1648\u001b[0m             \u001b[0mself\u001b[0m\u001b[0;34m.\u001b[0m\u001b[0madd_line\u001b[0m\u001b[0;34m(\u001b[0m\u001b[0mline\u001b[0m\u001b[0;34m)\u001b[0m\u001b[0;34m\u001b[0m\u001b[0;34m\u001b[0m\u001b[0m\n",
      "\u001b[0;32m~/.local/lib/python3.7/site-packages/matplotlib/axes/_base.py\u001b[0m in \u001b[0;36m__call__\u001b[0;34m(self, *args, **kwargs)\u001b[0m\n\u001b[1;32m    214\u001b[0m                 \u001b[0mthis\u001b[0m \u001b[0;34m+=\u001b[0m \u001b[0margs\u001b[0m\u001b[0;34m[\u001b[0m\u001b[0;36m0\u001b[0m\u001b[0;34m]\u001b[0m\u001b[0;34m,\u001b[0m\u001b[0;34m\u001b[0m\u001b[0;34m\u001b[0m\u001b[0m\n\u001b[1;32m    215\u001b[0m                 \u001b[0margs\u001b[0m \u001b[0;34m=\u001b[0m \u001b[0margs\u001b[0m\u001b[0;34m[\u001b[0m\u001b[0;36m1\u001b[0m\u001b[0;34m:\u001b[0m\u001b[0;34m]\u001b[0m\u001b[0;34m\u001b[0m\u001b[0;34m\u001b[0m\u001b[0m\n\u001b[0;32m--> 216\u001b[0;31m             \u001b[0;32myield\u001b[0m \u001b[0;32mfrom\u001b[0m \u001b[0mself\u001b[0m\u001b[0;34m.\u001b[0m\u001b[0m_plot_args\u001b[0m\u001b[0;34m(\u001b[0m\u001b[0mthis\u001b[0m\u001b[0;34m,\u001b[0m \u001b[0mkwargs\u001b[0m\u001b[0;34m)\u001b[0m\u001b[0;34m\u001b[0m\u001b[0;34m\u001b[0m\u001b[0m\n\u001b[0m\u001b[1;32m    217\u001b[0m \u001b[0;34m\u001b[0m\u001b[0m\n\u001b[1;32m    218\u001b[0m     \u001b[0;32mdef\u001b[0m \u001b[0mget_next_color\u001b[0m\u001b[0;34m(\u001b[0m\u001b[0mself\u001b[0m\u001b[0;34m)\u001b[0m\u001b[0;34m:\u001b[0m\u001b[0;34m\u001b[0m\u001b[0;34m\u001b[0m\u001b[0m\n",
      "\u001b[0;32m~/.local/lib/python3.7/site-packages/matplotlib/axes/_base.py\u001b[0m in \u001b[0;36m_plot_args\u001b[0;34m(self, tup, kwargs)\u001b[0m\n\u001b[1;32m    340\u001b[0m \u001b[0;34m\u001b[0m\u001b[0m\n\u001b[1;32m    341\u001b[0m         \u001b[0;32mif\u001b[0m \u001b[0mx\u001b[0m\u001b[0;34m.\u001b[0m\u001b[0mshape\u001b[0m\u001b[0;34m[\u001b[0m\u001b[0;36m0\u001b[0m\u001b[0;34m]\u001b[0m \u001b[0;34m!=\u001b[0m \u001b[0my\u001b[0m\u001b[0;34m.\u001b[0m\u001b[0mshape\u001b[0m\u001b[0;34m[\u001b[0m\u001b[0;36m0\u001b[0m\u001b[0;34m]\u001b[0m\u001b[0;34m:\u001b[0m\u001b[0;34m\u001b[0m\u001b[0;34m\u001b[0m\u001b[0m\n\u001b[0;32m--> 342\u001b[0;31m             raise ValueError(f\"x and y must have same first dimension, but \"\n\u001b[0m\u001b[1;32m    343\u001b[0m                              f\"have shapes {x.shape} and {y.shape}\")\n\u001b[1;32m    344\u001b[0m         \u001b[0;32mif\u001b[0m \u001b[0mx\u001b[0m\u001b[0;34m.\u001b[0m\u001b[0mndim\u001b[0m \u001b[0;34m>\u001b[0m \u001b[0;36m2\u001b[0m \u001b[0;32mor\u001b[0m \u001b[0my\u001b[0m\u001b[0;34m.\u001b[0m\u001b[0mndim\u001b[0m \u001b[0;34m>\u001b[0m \u001b[0;36m2\u001b[0m\u001b[0;34m:\u001b[0m\u001b[0;34m\u001b[0m\u001b[0;34m\u001b[0m\u001b[0m\n",
      "\u001b[0;31mValueError\u001b[0m: x and y must have same first dimension, but have shapes (9,) and (0,)"
     ]
    },
    {
     "data": {
      "image/png": "[encoded data removed]",
      "text/plain": [
       "<Figure size 1440x504 with 1 Axes>"
      ]
     },
     "metadata": {
      "needs_background": "light"
     },
     "output_type": "display_data"
    }
   ],
   "source": [
    "\n",
    "print(tp_arr_b)\n",
    "print(tn_arr_b)\n",
    "print(fp_arr_b)\n",
    "print(fn_arr_b)\n",
    "\n",
    "\n",
    "plt.figure(figsize = (20,7))\n",
    "plt.subplot(1,2,1)\n",
    "plt.plot(range(1,10), tp_arr, color=\"#e33641\")\n",
    "plt.xlabel('minNeighbors')\n",
    "plt.ylabel('True Positives')\n",
    "plt.title('True positives in function of the number of minimum required neighbours',fontsize=15)\n",
    "\n",
    "plt.subplot(1,2,2)\n",
    "plt.plot(range(1,10), fp_arr, color=\"#731f58\")\n",
    "plt.xlabel('minNeighbors')\n",
    "plt.ylabel('False Positives')\n",
    "plt.title('False Positives in function of the number of minimum required neighbours',fontsize=15)\n",
    "plt.show()\n",
    "\n",
    "plt.plot(range(1,10), fn_arr, color=\"#2a8281\")\n",
    "plt.xlabel('minNeighbors')\n",
    "plt.ylabel('False Negatives')\n",
    "plt.title('False Negatives in function of the number of minimum required neighbours',fontsize=15)\n",
    "\n",
    "plt.show()"
   ]
  },
  {
   "cell_type": "markdown",
   "metadata": {},
   "source": [
    "### Changing Scale Factor"
   ]
  },
  {
   "cell_type": "code",
   "execution_count": 9,
   "metadata": {},
   "outputs": [
    {
     "name": "stdout",
     "output_type": "stream",
     "text": [
      "It took 275.0609700679779 to finish results for the pretrained model stages\n",
      "It took 294.1935043334961 to finish results for the pretrained model stages\n",
      "It took 141.47845935821533 to finish results for the pretrained model stages\n",
      "It took 140.34717273712158 to finish results for the pretrained model stages\n",
      "It took 110.81240773200989 to finish results for the pretrained model stages\n",
      "It took 114.43330097198486 to finish results for the pretrained model stages\n",
      "It took 92.18318510055542 to finish results for the pretrained model stages\n",
      "It took 95.70916318893433 to finish results for the pretrained model stages\n",
      "It took 71.63717126846313 to finish results for the pretrained model stages\n",
      "It took 76.51829719543457 to finish results for the pretrained model stages\n"
     ]
    }
   ],
   "source": [
    "path = \"./ImageResources/Dataset/WIDER_test/images\"\n",
    "answers = \"./ImageResources/Dataset/WIDER_test/test.txt\"\n",
    "bin_path = \"./ImageResources/Dataset/WIDER_test/cropped_images\"\n",
    "\n",
    "tp_arr2 = []\n",
    "fp_arr2 = []\n",
    "fn_arr2 = []\n",
    "\n",
    "acc_arr2 = []\n",
    "recall_arr2 = []\n",
    "\n",
    "tp_arr2_b = []\n",
    "tn_arr2_b = []\n",
    "fp_arr2_b = []\n",
    "fn_arr2_b = []\n",
    "\n",
    "acc_arr2_b = []\n",
    "recall_arr2_b = []\n",
    "\n",
    "neighbours = 6 #Substitute for optimal number of neighbours\n",
    "for scale_factor in [1.05, 1.10, 1.15, 1.20, 1.25]:\n",
    "    classifier = initCascade(\"./CascadeClassifier/haarcascade_frontalface_default.xml\")\n",
    "    \n",
    "    results = open(\"./CascadeClassifier/pred/noTrain.txt\", \"w\")\n",
    "    results.close()\n",
    "\n",
    "    list_imgs = [join(path, f) for f in listdir(path) if isfile(join(path, f))]\n",
    "\n",
    "    start = time.time()\n",
    "    for img in list_imgs:\n",
    "\n",
    "        faces = detectFaces(classifier, img, scaleFactor=scale_factor)\n",
    "        writeResults(img,faces, \"noTrain.txt\")\n",
    "\n",
    "    end = time.time()\n",
    "    print(\"It took \" + str(end - start) + \" to finish results for the pretrained model stages\")\n",
    "    \n",
    "    tp, fp, fn = compare_results(\"./CascadeClassifier/pred/noTrain.txt\", answers)\n",
    "    \n",
    "    tp_arr2.append(tp)\n",
    "    fp_arr2.append(fp)\n",
    "    fn_arr2.append(fn)\n",
    "    \n",
    "    results = open(\"./CascadeClassifier/pred/noTrainBin.txt\", \"w\")\n",
    "    results.close()\n",
    "\n",
    "    list_imgs = [join(bin_path, f) for f in listdir(bin_path) if isfile(join(bin_path, f))]\n",
    "\n",
    "    start = time.time()\n",
    "    for img in list_imgs:\n",
    "\n",
    "        faces = detectFaces(classifier, img, scaleFactor=scale_factor)\n",
    "        writeResults(img,faces, \"noTrainBin.txt\")\n",
    "\n",
    "    end = time.time()\n",
    "    print(\"It took \" + str(end - start) + \" to finish results for the pretrained model stages\")\n",
    "\n",
    "    tp, tn, fp, fn = compare_bin_results(path, \"./CascadeClassifier/pred/noTrainBin.txt\")\n",
    "    \n",
    "    tp_arr2_b.append(tp)\n",
    "    tn_arr2_b.append(tn)\n",
    "    fp_arr2_b.append(fp)\n",
    "    fn_arr2_b.append(fn)"
   ]
  },
  {
   "cell_type": "code",
   "execution_count": 11,
   "metadata": {},
   "outputs": [
    {
     "name": "stdout",
     "output_type": "stream",
     "text": [
      "true positives, complex test [1471, 1252, 1030, 931, 823]\n",
      "false positives, complex test [6434, 3607, 2867, 2337, 1801]\n",
      "false negatives, complex test [18534, 18753, 18975, 19074, 19182]\n",
      "true positives, simple test [1609, 835, 624, 468, 274]\n",
      "true negatives, simple test [9379, 9790, 9875, 9920, 9961]\n",
      "false positives, simple test [817, 249, 142, 89, 41]\n",
      "false negatives, simple test [8516, 9194, 9387, 9535, 9724]\n"
     ]
    },
    {
     "ename": "ValueError",
     "evalue": "x and y must have same first dimension, but have shapes (6,) and (5,)",
     "output_type": "error",
     "traceback": [
      "\u001b[0;31m---------------------------------------------------------------------------\u001b[0m",
      "\u001b[0;31mValueError\u001b[0m                                Traceback (most recent call last)",
      "\u001b[0;32m<ipython-input-11-071b556be4f9>\u001b[0m in \u001b[0;36m<module>\u001b[0;34m\u001b[0m\n\u001b[1;32m     10\u001b[0m \u001b[0mplt\u001b[0m\u001b[0;34m.\u001b[0m\u001b[0mfigure\u001b[0m\u001b[0;34m(\u001b[0m\u001b[0mfigsize\u001b[0m \u001b[0;34m=\u001b[0m \u001b[0;34m(\u001b[0m\u001b[0;36m20\u001b[0m\u001b[0;34m,\u001b[0m\u001b[0;36m7\u001b[0m\u001b[0;34m)\u001b[0m\u001b[0;34m)\u001b[0m\u001b[0;34m\u001b[0m\u001b[0;34m\u001b[0m\u001b[0m\n\u001b[1;32m     11\u001b[0m \u001b[0mplt\u001b[0m\u001b[0;34m.\u001b[0m\u001b[0msubplot\u001b[0m\u001b[0;34m(\u001b[0m\u001b[0;36m1\u001b[0m\u001b[0;34m,\u001b[0m\u001b[0;36m3\u001b[0m\u001b[0;34m,\u001b[0m\u001b[0;36m1\u001b[0m\u001b[0;34m)\u001b[0m\u001b[0;34m\u001b[0m\u001b[0;34m\u001b[0m\u001b[0m\n\u001b[0;32m---> 12\u001b[0;31m \u001b[0mplt\u001b[0m\u001b[0;34m.\u001b[0m\u001b[0mplot\u001b[0m\u001b[0;34m(\u001b[0m\u001b[0;34m[\u001b[0m\u001b[0;36m0.95\u001b[0m\u001b[0;34m,\u001b[0m \u001b[0;36m1\u001b[0m\u001b[0;34m,\u001b[0m \u001b[0;36m1.05\u001b[0m\u001b[0;34m,\u001b[0m \u001b[0;36m1.10\u001b[0m\u001b[0;34m,\u001b[0m \u001b[0;36m1.15\u001b[0m\u001b[0;34m,\u001b[0m \u001b[0;36m1.20\u001b[0m\u001b[0;34m]\u001b[0m\u001b[0;34m,\u001b[0m \u001b[0mtp_arr2\u001b[0m\u001b[0;34m,\u001b[0m \u001b[0mcolor\u001b[0m\u001b[0;34m=\u001b[0m\u001b[0;34m\"#e33641\"\u001b[0m\u001b[0;34m)\u001b[0m\u001b[0;34m\u001b[0m\u001b[0;34m\u001b[0m\u001b[0m\n\u001b[0m\u001b[1;32m     13\u001b[0m \u001b[0mplt\u001b[0m\u001b[0;34m.\u001b[0m\u001b[0mxlabel\u001b[0m\u001b[0;34m(\u001b[0m\u001b[0;34m'scaleFactor'\u001b[0m\u001b[0;34m)\u001b[0m\u001b[0;34m\u001b[0m\u001b[0;34m\u001b[0m\u001b[0m\n\u001b[1;32m     14\u001b[0m \u001b[0mplt\u001b[0m\u001b[0;34m.\u001b[0m\u001b[0mylabel\u001b[0m\u001b[0;34m(\u001b[0m\u001b[0;34m'True Positives'\u001b[0m\u001b[0;34m)\u001b[0m\u001b[0;34m\u001b[0m\u001b[0;34m\u001b[0m\u001b[0m\n",
      "\u001b[0;32m~/.local/lib/python3.7/site-packages/matplotlib/pyplot.py\u001b[0m in \u001b[0;36mplot\u001b[0;34m(scalex, scaley, data, *args, **kwargs)\u001b[0m\n\u001b[1;32m   2761\u001b[0m     return gca().plot(\n\u001b[1;32m   2762\u001b[0m         *args, scalex=scalex, scaley=scaley, **({\"data\": data} if data\n\u001b[0;32m-> 2763\u001b[0;31m         is not None else {}), **kwargs)\n\u001b[0m\u001b[1;32m   2764\u001b[0m \u001b[0;34m\u001b[0m\u001b[0m\n\u001b[1;32m   2765\u001b[0m \u001b[0;34m\u001b[0m\u001b[0m\n",
      "\u001b[0;32m~/.local/lib/python3.7/site-packages/matplotlib/axes/_axes.py\u001b[0m in \u001b[0;36mplot\u001b[0;34m(self, scalex, scaley, data, *args, **kwargs)\u001b[0m\n\u001b[1;32m   1644\u001b[0m         \"\"\"\n\u001b[1;32m   1645\u001b[0m         \u001b[0mkwargs\u001b[0m \u001b[0;34m=\u001b[0m \u001b[0mcbook\u001b[0m\u001b[0;34m.\u001b[0m\u001b[0mnormalize_kwargs\u001b[0m\u001b[0;34m(\u001b[0m\u001b[0mkwargs\u001b[0m\u001b[0;34m,\u001b[0m \u001b[0mmlines\u001b[0m\u001b[0;34m.\u001b[0m\u001b[0mLine2D\u001b[0m\u001b[0;34m)\u001b[0m\u001b[0;34m\u001b[0m\u001b[0;34m\u001b[0m\u001b[0m\n\u001b[0;32m-> 1646\u001b[0;31m         \u001b[0mlines\u001b[0m \u001b[0;34m=\u001b[0m \u001b[0;34m[\u001b[0m\u001b[0;34m*\u001b[0m\u001b[0mself\u001b[0m\u001b[0;34m.\u001b[0m\u001b[0m_get_lines\u001b[0m\u001b[0;34m(\u001b[0m\u001b[0;34m*\u001b[0m\u001b[0margs\u001b[0m\u001b[0;34m,\u001b[0m \u001b[0mdata\u001b[0m\u001b[0;34m=\u001b[0m\u001b[0mdata\u001b[0m\u001b[0;34m,\u001b[0m \u001b[0;34m**\u001b[0m\u001b[0mkwargs\u001b[0m\u001b[0;34m)\u001b[0m\u001b[0;34m]\u001b[0m\u001b[0;34m\u001b[0m\u001b[0;34m\u001b[0m\u001b[0m\n\u001b[0m\u001b[1;32m   1647\u001b[0m         \u001b[0;32mfor\u001b[0m \u001b[0mline\u001b[0m \u001b[0;32min\u001b[0m \u001b[0mlines\u001b[0m\u001b[0;34m:\u001b[0m\u001b[0;34m\u001b[0m\u001b[0;34m\u001b[0m\u001b[0m\n\u001b[1;32m   1648\u001b[0m             \u001b[0mself\u001b[0m\u001b[0;34m.\u001b[0m\u001b[0madd_line\u001b[0m\u001b[0;34m(\u001b[0m\u001b[0mline\u001b[0m\u001b[0;34m)\u001b[0m\u001b[0;34m\u001b[0m\u001b[0;34m\u001b[0m\u001b[0m\n",
      "\u001b[0;32m~/.local/lib/python3.7/site-packages/matplotlib/axes/_base.py\u001b[0m in \u001b[0;36m__call__\u001b[0;34m(self, *args, **kwargs)\u001b[0m\n\u001b[1;32m    214\u001b[0m                 \u001b[0mthis\u001b[0m \u001b[0;34m+=\u001b[0m \u001b[0margs\u001b[0m\u001b[0;34m[\u001b[0m\u001b[0;36m0\u001b[0m\u001b[0;34m]\u001b[0m\u001b[0;34m,\u001b[0m\u001b[0;34m\u001b[0m\u001b[0;34m\u001b[0m\u001b[0m\n\u001b[1;32m    215\u001b[0m                 \u001b[0margs\u001b[0m \u001b[0;34m=\u001b[0m \u001b[0margs\u001b[0m\u001b[0;34m[\u001b[0m\u001b[0;36m1\u001b[0m\u001b[0;34m:\u001b[0m\u001b[0;34m]\u001b[0m\u001b[0;34m\u001b[0m\u001b[0;34m\u001b[0m\u001b[0m\n\u001b[0;32m--> 216\u001b[0;31m             \u001b[0;32myield\u001b[0m \u001b[0;32mfrom\u001b[0m \u001b[0mself\u001b[0m\u001b[0;34m.\u001b[0m\u001b[0m_plot_args\u001b[0m\u001b[0;34m(\u001b[0m\u001b[0mthis\u001b[0m\u001b[0;34m,\u001b[0m \u001b[0mkwargs\u001b[0m\u001b[0;34m)\u001b[0m\u001b[0;34m\u001b[0m\u001b[0;34m\u001b[0m\u001b[0m\n\u001b[0m\u001b[1;32m    217\u001b[0m \u001b[0;34m\u001b[0m\u001b[0m\n\u001b[1;32m    218\u001b[0m     \u001b[0;32mdef\u001b[0m \u001b[0mget_next_color\u001b[0m\u001b[0;34m(\u001b[0m\u001b[0mself\u001b[0m\u001b[0;34m)\u001b[0m\u001b[0;34m:\u001b[0m\u001b[0;34m\u001b[0m\u001b[0;34m\u001b[0m\u001b[0m\n",
      "\u001b[0;32m~/.local/lib/python3.7/site-packages/matplotlib/axes/_base.py\u001b[0m in \u001b[0;36m_plot_args\u001b[0;34m(self, tup, kwargs)\u001b[0m\n\u001b[1;32m    340\u001b[0m \u001b[0;34m\u001b[0m\u001b[0m\n\u001b[1;32m    341\u001b[0m         \u001b[0;32mif\u001b[0m \u001b[0mx\u001b[0m\u001b[0;34m.\u001b[0m\u001b[0mshape\u001b[0m\u001b[0;34m[\u001b[0m\u001b[0;36m0\u001b[0m\u001b[0;34m]\u001b[0m \u001b[0;34m!=\u001b[0m \u001b[0my\u001b[0m\u001b[0;34m.\u001b[0m\u001b[0mshape\u001b[0m\u001b[0;34m[\u001b[0m\u001b[0;36m0\u001b[0m\u001b[0;34m]\u001b[0m\u001b[0;34m:\u001b[0m\u001b[0;34m\u001b[0m\u001b[0;34m\u001b[0m\u001b[0m\n\u001b[0;32m--> 342\u001b[0;31m             raise ValueError(f\"x and y must have same first dimension, but \"\n\u001b[0m\u001b[1;32m    343\u001b[0m                              f\"have shapes {x.shape} and {y.shape}\")\n\u001b[1;32m    344\u001b[0m         \u001b[0;32mif\u001b[0m \u001b[0mx\u001b[0m\u001b[0;34m.\u001b[0m\u001b[0mndim\u001b[0m \u001b[0;34m>\u001b[0m \u001b[0;36m2\u001b[0m \u001b[0;32mor\u001b[0m \u001b[0my\u001b[0m\u001b[0;34m.\u001b[0m\u001b[0mndim\u001b[0m \u001b[0;34m>\u001b[0m \u001b[0;36m2\u001b[0m\u001b[0;34m:\u001b[0m\u001b[0;34m\u001b[0m\u001b[0;34m\u001b[0m\u001b[0m\n",
      "\u001b[0;31mValueError\u001b[0m: x and y must have same first dimension, but have shapes (6,) and (5,)"
     ]
    },
    {
     "data": {
      "image/png": "[encoded data removed]",
      "text/plain": [
       "<Figure size 1440x504 with 1 Axes>"
      ]
     },
     "metadata": {
      "needs_background": "light"
     },
     "output_type": "display_data"
    }
   ],
   "source": [
    "print(\"true positives, complex test\", tp_arr2)\n",
    "print(\"false positives, complex test\", fp_arr2)\n",
    "print(\"false negatives, complex test\",fn_arr2)\n",
    "\n",
    "print(\"true positives, simple test\",tp_arr2_b)\n",
    "print(\"true negatives, simple test\",tn_arr2_b)\n",
    "print(\"false positives, simple test\",fp_arr2_b)\n",
    "print(\"false negatives, simple test\",fn_arr2_b)\n",
    "\n",
    "plt.figure(figsize = (20,7))\n",
    "plt.subplot(1,3,1)\n",
    "plt.plot([0.95, 1, 1.05, 1.10, 1.15, 1.20], tp_arr2, color=\"#e33641\")\n",
    "plt.xlabel('scaleFactor')\n",
    "plt.ylabel('True Positives')\n",
    "plt.title('True positives in function of the scale factor',fontsize=15)\n",
    "\n",
    "plt.subplot(1,3,2)\n",
    "plt.plot([0.95, 1, 1.05, 1.10, 1.15, 1.20], fp_arr2, color=\"#731f58\")\n",
    "plt.xlabel('scaleFactor')\n",
    "plt.ylabel('False Positives')\n",
    "plt.title('False Positives in function of the scale factor',fontsize=15)\n",
    "\n",
    "plt.subplot(1,3,3)\n",
    "plt.plot([0.95, 1, 1.05, 1.10, 1.15, 1.20], fn_arr2, color=\"#2a8281\")\n",
    "plt.xlabel('scaleFactor')\n",
    "plt.ylabel('False Negatives')\n",
    "plt.title('False Negatives in function of the scale factor',fontsize=15)\n",
    "\n",
    "plt.show()\n",
    "\n",
    "plt.figure(figsize = (20,7))\n",
    "plt.subplot(1,2,1)\n",
    "plt.plot([0.95, 1, 1.05, 1.10, 1.15, 1.20], acc_arr2, color=\"#e33641\")\n",
    "plt.xlabel('scaleFactor')\n",
    "plt.ylabel('Accuracy')\n",
    "plt.title('Accuracy in function of the number of minimum required neighbours',fontsize=15)\n",
    "\n",
    "plt.subplot(1,2,2)\n",
    "plt.plot([0.95, 1, 1.05, 1.10, 1.15, 1.20], recall_arr2, color=\"#731f58\")\n",
    "plt.xlabel('scaleFactor')\n",
    "plt.ylabel('Recall')\n",
    "plt.title('Recall in function of the number of minimum required neighbours',fontsize=15)\n",
    "\n",
    "plt.show()"
   ]
  },
  {
   "cell_type": "markdown",
   "metadata": {},
   "source": [
    "## Train Model"
   ]
  },
  {
   "cell_type": "markdown",
   "metadata": {},
   "source": [
    "First you have to run the following command:\n",
    "```\n",
    "opencv_createsamples -info ../ImageResources/Dataset/WIDER_train/cropped_images/positive_info.dat -num 10000 -w 32 -h 32 -vec faces.vec\n",
    "```\n",
    "Where positive_info.dat should be a file containing all positive images, how many faces there in each image and their bounding boxes in the following format:\n",
    "```\n",
    "image_path no_faces x y width height\n",
    "```"
   ]
  },
  {
   "cell_type": "markdown",
   "metadata": {},
   "source": [
    "To train the classifier we need to run the following command:\n",
    "```\n",
    "opencv_traincascade -data model -vec faces.vec -bg negative_info.txt -numPos 2500 -numNeg 2500 -numStages 1 -w 32 -h 32 \n",
    "```\n",
    "\n",
    "Where model is a folder that we should create beforehand in which the model will be stored\n",
    "\n",
    "_minHitRate <min_hit_rate>_ : Minimal desired hit rate for each stage of the classifier. Overall hit rate may be estimated as (min_hit_rate ^ number_of_stages), [245] §4.1.\n",
    "\n",
    "_maxFalseAlarmRate <max_false_alarm_rate>_ : Maximal desired false alarm rate for each stage of the classifier. Overall false alarm rate may be estimated as (max_false_alarm_rate ^ number_of_stages), [245] §4.1.\n",
    "\n",
    "_weightTrimRate <weight_trim_rate>_ : Specifies whether trimming should be used and its weight. A decent choice is 0.95.\n",
    "\n",
    "_maxDepth <max_depth_of_weak_tree>_ : Maximal depth of a weak tree. A decent choice is 1, that is case of stumps.\n",
    "\n",
    "_maxWeakCount <max_weak_tree_count>_ : Maximal count of weak trees for every cascade stage. The boosted classifier (stage) will have so many weak trees (<=maxWeakCount), as needed to achieve the given -maxFalseAlarmRate."
   ]
  },
  {
   "cell_type": "markdown",
   "metadata": {},
   "source": [
    "## Use Trained Model"
   ]
  },
  {
   "cell_type": "markdown",
   "metadata": {},
   "source": [
    "### Changing number of stages"
   ]
  },
  {
   "cell_type": "code",
   "execution_count": 12,
   "metadata": {
    "scrolled": true
   },
   "outputs": [
    {
     "name": "stdout",
     "output_type": "stream",
     "text": [
      "detecting faces\n",
      "finished detecting faces\n",
      "finished showing image\n"
     ]
    }
   ],
   "source": [
    "#classifier = initCascade(\"./CascadeClassifier/models/model1stage/cascade.xml\")\n",
    "#classifier = initCascade(\"./CascadeClassifier/models/model5stages/cascade.xml\")\n",
    "classifier = initCascade(\"./CascadeClassifier/models/model0.9995hitrate/cascade.xml\")\n",
    "\n",
    "#Get values for a specific image\n",
    "path = \"./ImageResources/Dataset/WIDER_train/images/0--Parade/0_Parade_Parade_0_178.jpg\"\n",
    "path2 = \"./ImageResources/Dataset/WIDER_train/images/4--Dancing/4_Dancing_Dancing_4_138.jpg\"\n",
    "path3 = \"./dg.jpg\"\n",
    "path4= \"./ImageResources/Dataset/WIDER_train/images/27--Spa/27_Spa_Spa_27_37.jpg\"\n",
    "\n",
    "print(\"detecting faces\")\n",
    "faces = detectFaces(classifier, path,  minNeighbors = 6)\n",
    "print(\"finished detecting faces\")\n",
    "\n",
    "drawBoxes(path, faces)\n",
    "print(\"finished showing image\")"
   ]
  },
  {
   "cell_type": "code",
   "execution_count": 12,
   "metadata": {},
   "outputs": [
    {
     "name": "stdout",
     "output_type": "stream",
     "text": [
      "Just one image\n",
      "It took 220.9446361064911 to finish results for 5stages\n",
      "It took 5.287785053253174 to finish results for 10stages\n",
      "It took 0.6900830268859863 to finish results for 15stages\n",
      "It took 0.3858218193054199 to finish results for 20stages\n",
      "It took 0.44898009300231934 to finish results for 25stages\n",
      "It took 0.43389177322387695 to finish results for 30stages\n",
      "It took 0.49165773391723633 to finish results for 35stages\n",
      "It took 0.48737311363220215 to finish results for 40stages\n",
      "Multiple Images\n",
      "It took 5.442720413208008 to finish results for 10stages\n",
      "It took 0.6984388828277588 to finish results for 15stages\n",
      "It took 0.40036654472351074 to finish results for 20stages\n",
      "It took 0.467670202255249 to finish results for 25stages\n",
      "It took 0.43861818313598633 to finish results for 30stages\n",
      "It took 0.4966905117034912 to finish results for 35stages\n",
      "It took 0.439420223236084 to finish results for 40stages\n"
     ]
    }
   ],
   "source": [
    "path = \"./ImageResources/Dataset/wider_face_split/wider_face_val_bbx_gt.txt\" #Path to the test images\n",
    "\n",
    "print(\"Just one image\")\n",
    "times_single = []\n",
    "for no_stages in [\"5\", \"10\", \"15\", \"20\", \"25\", \"30\", \"35\", \"40\"]:\n",
    "    classifier = initCascade(\"./CascadeClassifier/models/model\"+no_stages+\"stages/cascade.xml\")\n",
    "\n",
    "    # Get values for our Test Set\n",
    "    path = \"./ImageResources/Dataset/WIDER_test/images\"\n",
    "\n",
    "    results = open(\"./CascadeClassifier/pred/\"+no_stages+\"stages.txt\", \"w\")\n",
    "    results.close()\n",
    "\n",
    "    list_imgs = [join(path, f) for f in listdir(path) if isfile(join(path, f))]\n",
    "    \n",
    "    start = time.time()\n",
    "    for img in list_imgs:\n",
    "        faces = detectFaces(classifier, img)\n",
    "        writeResults(img,faces, no_stages+\"stages.txt\")\n",
    "        break\n",
    "    end = time.time()\n",
    "    \n",
    "    times_single.append(end-start)\n",
    "    \n",
    "    print(\"It took \" + str(end - start) + \" to finish results for \" + no_stages + \"stages\")\n",
    "\n",
    "\n",
    "print(\"Multiple Images\")\n",
    "times_multi = []\n",
    "for no_stages in [\"10\", \"15\", \"20\", \"25\", \"30\", \"35\", \"40\"]:\n",
    "    classifier = initCascade(\"./CascadeClassifier/models/model\"+no_stages+\"stages/cascade.xml\")\n",
    "\n",
    "    # Get values for our Test Set\n",
    "    path = \"./ImageResources/Dataset/WIDER_test/images\"\n",
    "\n",
    "    results = open(\"./CascadeClassifier/pred/\"+no_stages+\"stages.txt\", \"w\")\n",
    "    results.close()\n",
    "\n",
    "    list_imgs = [join(path, f) for f in listdir(path) if isfile(join(path, f))]\n",
    "    \n",
    "    start = time.time()\n",
    "    for img in list_imgs:\n",
    "        faces = detectFaces(classifier, img)\n",
    "        writeResults(img,faces, no_stages+\"stages.txt\")\n",
    "        break\n",
    "    end = time.time()\n",
    "    times_multi.append(end-start)\n",
    "    \n",
    "    print(\"It took \" + str(end - start) + \" to finish results for \" + no_stages + \"stages\")"
   ]
  },
  {
   "cell_type": "code",
   "execution_count": 13,
   "metadata": {},
   "outputs": [
    {
     "data": {
      "image/png": "[encoded data removed]",
      "text/plain": [
       "<Figure size 1440x504 with 2 Axes>"
      ]
     },
     "metadata": {
      "needs_background": "light"
     },
     "output_type": "display_data"
    }
   ],
   "source": [
    "plt.figure(figsize = (20,7))\n",
    "    \n",
    "plt.subplot(1,2,1)\n",
    "plt.plot([\"5\", \"10\", \"15\", \"20\", \"25\", \"30\", \"35\", \"40\"], times_single, color=\"#e33641\")\n",
    "plt.xlabel('Number of Stages')\n",
    "plt.ylabel('Time (seconds)')\n",
    "plt.title('Number of time it took to detect the faces on a single image per number of stages',fontsize=15)\n",
    "\n",
    "plt.subplot(1,2,2)\n",
    "plt.plot([\"10\", \"15\", \"20\", \"25\", \"30\", \"35\", \"40\"], times_multi, color=\"#731f58\")\n",
    "plt.xlabel('Number of Stages')\n",
    "plt.ylabel('Time (seconds)')\n",
    "plt.title('Number of time it took to detect the faces on the Test set per number of stages',fontsize=15)\n",
    "plt.show()"
   ]
  },
  {
   "cell_type": "code",
   "execution_count": null,
   "metadata": {},
   "outputs": [],
   "source": []
  }
 ],
 "metadata": {
  "kernelspec": {
   "display_name": "Python 3",
   "language": "python",
   "name": "python3"
  },
  "language_info": {
   "codemirror_mode": {
    "name": "ipython",
    "version": 3
   },
   "file_extension": ".py",
   "mimetype": "text/x-python",
   "name": "python",
   "nbconvert_exporter": "python",
   "pygments_lexer": "ipython3",
   "version": "3.7.4"
  }
 },
 "nbformat": 4,
 "nbformat_minor": 2
}
