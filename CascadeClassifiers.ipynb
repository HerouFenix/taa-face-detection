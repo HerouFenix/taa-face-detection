{
 "cells": [
  {
   "cell_type": "markdown",
   "metadata": {},
   "source": [
    "# Face Detection using Cascade Classifier"
   ]
  },
  {
   "cell_type": "markdown",
   "metadata": {},
   "source": [
    "## Description\n",
    "Face Detection is a computer vision problem that aims to attempt to accurately identify human faces that may, or may not, be present in a given photograph or video. Many efforts have been directed at this problem since the early 2000's, with it having started as a subbranch of the problem of Object-Class Detection but having evolved into a main focus of machine learning algorithms due to its prevalence and paramountcy to the paradigm of Facial Recognition, another problem that is nowadays used in a wide-branch of technologies and biometrics."
   ]
  },
  {
   "cell_type": "markdown",
   "metadata": {},
   "source": [
    "## Face Detection Function"
   ]
  },
  {
   "cell_type": "markdown",
   "metadata": {},
   "source": [
    "### Imports"
   ]
  },
  {
   "cell_type": "code",
   "execution_count": 1,
   "metadata": {},
   "outputs": [],
   "source": [
    "import cv2\n",
    "import os"
   ]
  },
  {
   "cell_type": "markdown",
   "metadata": {},
   "source": [
    "### Initialize Cascade Classifier"
   ]
  },
  {
   "cell_type": "code",
   "execution_count": 2,
   "metadata": {},
   "outputs": [],
   "source": [
    "def initCascade(path):\n",
    "    cascadeClassifier = cv2.CascadeClassifier()\n",
    "    \n",
    "    # Try to load the model\n",
    "    if not cascadeClassifier.load(cv2.samples.findFile(path)):\n",
    "        print(\"Error - Unable to load classifier\")\n",
    "        exit(0)\n",
    "    \n",
    "    return cascadeClassifier"
   ]
  },
  {
   "cell_type": "markdown",
   "metadata": {},
   "source": [
    "### Detect Faces"
   ]
  },
  {
   "cell_type": "code",
   "execution_count": 3,
   "metadata": {},
   "outputs": [],
   "source": [
    "def detectFaces(classifier, imgPath, scaleFactor = 1.1, minNeighbors = 3):\n",
    "    img = cv2.imread(imgPath)\n",
    "    \n",
    "    # Get the Faces\n",
    "    faces = classifier.detectMultiScale(\n",
    "        img,\n",
    "        scaleFactor,\n",
    "        minNeighbors,\n",
    "    )\n",
    "    \n",
    "    print(faces)\n",
    "    \n",
    "    return faces"
   ]
  },
  {
   "cell_type": "markdown",
   "metadata": {},
   "source": [
    "### Draw Boxes"
   ]
  },
  {
   "cell_type": "code",
   "execution_count": 4,
   "metadata": {},
   "outputs": [],
   "source": [
    "def drawBoxes(imgPath, rects):\n",
    "    img = cv2.imread(imgPath)\n",
    "\n",
    "    # Draw the bounding boxes\n",
    "    for (x,y,w,h) in faces:\n",
    "        cv2.rectangle(img, (x,y), (x+w, y+h), (0,0,255), 3)\n",
    "    \n",
    "    cv2.imshow(\"Detected Faces\", img)\n",
    "    cv2.waitKey(0)\n",
    "    cv2.destroyAllWindows()"
   ]
  },
  {
   "cell_type": "markdown",
   "metadata": {},
   "source": [
    "### Write Results"
   ]
  },
  {
   "cell_type": "code",
   "execution_count": 5,
   "metadata": {},
   "outputs": [],
   "source": [
    "def writeResult(path, faces):\n",
    "    try:\n",
    "        os.mkdir(\"./CascadeClassifier/pred/\"+path.split(\"/\")[0])\n",
    "    except FileExistsError:\n",
    "        pass\n",
    "    \n",
    "    filename = path.split(\".\")[0] + \".txt\"\n",
    "    \n",
    "    with open(\"./CascadeClassifier/pred/\"+filename, \"w\") as writer:   \n",
    "        print(\"Writing results for image \" + filename)\n",
    "        writer.write(path.split(\"/\")[1]+\"\\n\")\n",
    "        writer.write(str(len(faces))+\"\\n\")\n",
    "        \n",
    "        for (x,y,w,h) in faces:\n",
    "            faceCoords = str(x)+\" \"+str(y)+\" \"+str(w)+\" \"+str(h)+\" 1.0\"\n",
    "            \n",
    "            writer.write(faceCoords+\"\\n\")\n",
    "    \n",
    "    \n",
    "    "
   ]
  },
  {
   "cell_type": "markdown",
   "metadata": {},
   "source": [
    "## Pretrained Model - haarcascade_frontalface_default.xml"
   ]
  },
  {
   "cell_type": "markdown",
   "metadata": {},
   "source": [
    "In this section we will be using one of OpenCV's pretrained models for cascade classifier face detection."
   ]
  },
  {
   "cell_type": "code",
   "execution_count": 6,
   "metadata": {},
   "outputs": [],
   "source": [
    "#classifier = initCascade(\"./CascadeClassifier/haarcascade_frontalface_default.xml\")\n",
    "classifier = initCascade(\"./CascadeClassifier/haarcascade_frontalface_default.xml\")\n",
    "\n",
    "#Get values for a specific image\n",
    "path = \"./Image Resources/Dataset/WIDER_train/images/0--Parade/0_Parade_Parade_0_178.jpg\"\n",
    "path2 = \"./Image Resources/Dataset/WIDER_train/images/4--Dancing/4_Dancing_Dancing_4_138.jpg\"\n",
    "path3 = \"./dg.jpg\"\n",
    "\n",
    "\n",
    "faces = detectFaces(classifier, path3,  minNeighbors = 6)\n",
    "drawBoxes(path3, faces)\n"
   ]
  },
  {
   "cell_type": "code",
   "execution_count": null,
   "metadata": {},
   "outputs": [],
   "source": [
    "# Get values for our Test Set\n",
    "#path = \"./Image Resources/Dataset/wider_face_split/wider_face_test_filelist.txt\"\n",
    "path = \"./Image Resources/Dataset/wider_face_split/wider_face_val_bbx_gt.txt\"\n",
    "\n",
    "\n",
    "\n",
    "with open(path, \"r\") as reader:\n",
    "    for line in reader:\n",
    "        if(len(line) < 3 or line[2] != \"-\"):\n",
    "            continue\n",
    "\n",
    "        faces = detectFaces(classifier, \"./Image Resources/Dataset/WIDER_val/images/\" + line[:-1])\n",
    "        writeResult(line[:-1],faces)\n",
    "    "
   ]
  },
  {
   "cell_type": "markdown",
   "metadata": {},
   "source": [
    "## Train Model"
   ]
  },
  {
   "cell_type": "markdown",
   "metadata": {},
   "source": [
    "First you have to run the following command:\n",
    "```\n",
    "opencv_createsamples -info ../ImageResources/Dataset/WIDER_train/cropped_images/positive_info.dat -num 10000 -w 32 -h 32 -vec faces.vec\n",
    "```\n",
    "Where positive_info.dat should be a file containing all positive images, how many faces there in each image and their bounding boxes in the following format:\n",
    "```\n",
    "image_path no_faces x y width height\n",
    "```"
   ]
  },
  {
   "cell_type": "markdown",
   "metadata": {},
   "source": [
    "To train the classifier we need to run the following command:\n",
    "```\n",
    "opencv_traincascade -data model -vec faces.vec -bg negative_info.txt -numPos 2500 -numNeg 2500 -numStages 1 -w 32 -h 32 \n",
    "```\n",
    "\n",
    "Where model is a folder that we should create beforehand in which the model will be stored\n",
    "\n",
    "_minHitRate <min_hit_rate>_ : Minimal desired hit rate for each stage of the classifier. Overall hit rate may be estimated as (min_hit_rate ^ number_of_stages), [245] §4.1.\n",
    "\n",
    "_maxFalseAlarmRate <max_false_alarm_rate>_ : Maximal desired false alarm rate for each stage of the classifier. Overall false alarm rate may be estimated as (max_false_alarm_rate ^ number_of_stages), [245] §4.1.\n",
    "\n",
    "_weightTrimRate <weight_trim_rate>_ : Specifies whether trimming should be used and its weight. A decent choice is 0.95.\n",
    "\n",
    "_maxDepth <max_depth_of_weak_tree>_ : Maximal depth of a weak tree. A decent choice is 1, that is case of stumps.\n",
    "\n",
    "_maxWeakCount <max_weak_tree_count>_ : Maximal count of weak trees for every cascade stage. The boosted classifier (stage) will have so many weak trees (<=maxWeakCount), as needed to achieve the given -maxFalseAlarmRate."
   ]
  },
  {
   "cell_type": "markdown",
   "metadata": {},
   "source": [
    "## Use Trained Model"
   ]
  },
  {
   "cell_type": "code",
   "execution_count": null,
   "metadata": {
    "scrolled": true
   },
   "outputs": [
    {
     "name": "stdout",
     "output_type": "stream",
     "text": [
      "detecting faces\n",
      "[[  4  41  34  34]\n",
      " [ 32 223  37  37]\n",
      " [379 444  88  88]\n",
      " [178 323  39  39]\n",
      " [ 38 278  36  36]\n",
      " [649 116  49  49]\n",
      " [192 257  34  34]\n",
      " [452  93  33  33]\n",
      " [655 253  37  37]\n",
      " [  9  10  33  33]\n",
      " [162 233  33  33]\n",
      " [ 11 117  34  34]\n",
      " [ 16 169  50  50]\n",
      " [624 293  34  34]\n",
      " [628 269  39  39]\n",
      " [ 13 212  36  36]\n",
      " [ 24 281  42  42]\n",
      " [ 62 240  38  38]\n",
      " [ 27 318  52  52]\n",
      " [  8 114  52  52]\n",
      " [ 40 382  46  46]\n",
      " [297  68  69  69]\n",
      " [ 17 143  87  87]\n",
      " [184 232  95  95]\n",
      " [569 358  34  34]\n",
      " [ 77 388  34  34]\n",
      " [ 57 429  37  37]\n",
      " [ 68 445  34  34]\n",
      " [296 450  36  36]\n",
      " [ 71 476  35  35]\n",
      " [ 74 523  38  38]\n",
      " [ 89 568  36  36]\n",
      " [138 514  38  38]\n",
      " [ 57 614  38  38]\n",
      " [669 616  34  34]\n",
      " [114 543  37  37]\n",
      " [673 635  37  37]\n",
      " [122 655  49  49]\n",
      " [ 47 691  37  37]\n",
      " [ 59 610  68  68]\n",
      " [ 47 577  72  72]\n",
      " [109 782  43  43]\n",
      " [ 69 752  36  36]\n",
      " [655 772  55  55]\n",
      " [ 70 712  74  74]\n",
      " [ 75 878  46  46]\n",
      " [108 848  96  96]]\n",
      "finished detecting faces\n"
     ]
    }
   ],
   "source": [
    "#classifier = initCascade(\"./CascadeClassifier/models/model1stage/cascade.xml\")\n",
    "#classifier = initCascade(\"./CascadeClassifier/models/model5stages/cascade.xml\")\n",
    "classifier = initCascade(\"./CascadeClassifier/models/model8stages/cascade.xml\")\n",
    "\n",
    "#Get values for a specific image\n",
    "path = \"./Image Resources/Dataset/WIDER_train/images/0--Parade/0_Parade_Parade_0_178.jpg\"\n",
    "path2 = \"./Image Resources/Dataset/WIDER_train/images/4--Dancing/4_Dancing_Dancing_4_138.jpg\"\n",
    "path3 = \"./dg.jpg\"\n",
    "\n",
    "print(\"detecting faces\")\n",
    "faces = detectFaces(classifier, path3,  minNeighbors = 6)\n",
    "print(\"finished detecting faces\")\n",
    "\n",
    "drawBoxes(path3, faces)\n",
    "print(\"finished showing image\")"
   ]
  },
  {
   "cell_type": "code",
   "execution_count": 5,
   "metadata": {},
   "outputs": [],
   "source": [
    "def writeResult(path, faces):\n",
    "    try:\n",
    "        os.mkdir(\"./CascadeClassifier/pred/\"+path.split(\"/\")[0])\n",
    "    except FileExistsError:\n",
    "        pass\n",
    "    \n",
    "    filename = path.split(\".\")[0] + \".txt\"\n",
    "    \n",
    "    with open(\"./CascadeClassifier/pred/\"+filename, \"w\") as writer:   \n",
    "        print(\"Writing results for image \" + filename)\n",
    "        writer.write(path.split(\"/\")[1]+\"\\n\")\n",
    "        writer.write(str(len(faces))+\"\\n\")\n",
    "        \n",
    "        for (x,y,w,h) in faces:\n",
    "            faceCoords = str(x)+\" \"+str(y)+\" \"+str(w)+\" \"+str(h)+\" 1.0\"\n",
    "            \n",
    "            writer.write(faceCoords+\"\\n\")\n",
    "    \n",
    "    \n",
    "    "
   ]
  }
 ],
 "metadata": {
  "kernelspec": {
   "display_name": "Python 3",
   "language": "python",
   "name": "python3"
  },
  "language_info": {
   "codemirror_mode": {
    "name": "ipython",
    "version": 3
   },
   "file_extension": ".py",
   "mimetype": "text/x-python",
   "name": "python",
   "nbconvert_exporter": "python",
   "pygments_lexer": "ipython3",
   "version": "3.7.6"
  }
 },
 "nbformat": 4,
 "nbformat_minor": 2
}
