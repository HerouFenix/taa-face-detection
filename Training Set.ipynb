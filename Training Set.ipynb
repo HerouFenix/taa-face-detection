{
 "cells": [
  {
   "cell_type": "markdown",
   "metadata": {},
   "source": [
    "# Wider Face: Process Training Set"
   ]
  },
  {
   "cell_type": "markdown",
   "metadata": {},
   "source": [
    "## Description"
   ]
  },
  {
   "cell_type": "markdown",
   "metadata": {},
   "source": [
    "In this notebook, we'll be developing a way to get face pictures solely based on the Wider Face training set. In order to do this, we've taken some of the pictures in the wider face model and created what we called a positive training set, showing only pictures of the face, and negative training set, showing pictures that don't have a face. We're going to ignore the images with height or width below 16 pixeis. All of the images will then be converted to grayscale for better results."
   ]
  },
  {
   "cell_type": "code",
   "execution_count": 3,
   "metadata": {},
   "outputs": [],
   "source": [
    "import cv2\n",
    "import numpy as np\n",
    "from random import randint"
   ]
  },
  {
   "cell_type": "code",
   "execution_count": 4,
   "metadata": {},
   "outputs": [],
   "source": [
    "def crop_image(image, start_x, start_y, height, width):\n",
    "    return image[start_y: start_y+height, start_x: start_x+width]"
   ]
  },
  {
   "cell_type": "code",
   "execution_count": 37,
   "metadata": {},
   "outputs": [],
   "source": [
    "def create_positive_set(file_path, image_set_path, save_path, limit):\n",
    "    count = 0\n",
    "    with open(file_path, \"r\") as file_reader:\n",
    "        while True:\n",
    "            image_path = file_reader.readline().rstrip()\n",
    "            img = cv2.imread(image_set_path + image_path)\n",
    "            num_faces = int(file_reader.readline())\n",
    "            if num_faces == 0:\n",
    "                #it's a negative image\n",
    "                file_reader.readline()\n",
    "                continue\n",
    "            for face in range(num_faces):\n",
    "                image_data = [ int(elem) for elem in file_reader.readline().split()]\n",
    "                x,y,w,h= image_data[:4]\n",
    "                if h<32 or w < 32:\n",
    "                    continue\n",
    "                cv2.imwrite(save_path + \"Image\"+str(count)+\".jpg\", crop_image(img, x, y, h, w))\n",
    "                count += 1\n",
    "                if count > limit:\n",
    "                    return "
   ]
  },
  {
   "cell_type": "code",
   "execution_count": 14,
   "metadata": {},
   "outputs": [],
   "source": [
    "path = \"./Image Resources/Dataset/\""
   ]
  },
  {
   "cell_type": "code",
   "execution_count": 39,
   "metadata": {},
   "outputs": [],
   "source": [
    "images_path = path + \"WIDER_train/images/\"\n",
    "file_path = path + \"wider_face_split/wider_face_train_bbx_gt.txt\"\n",
    "positive_path = path + \"WIDER_train/cropped images/positive/\"\n",
    "train = create_positive_set(file_path, images_path, positive_path, 10000)"
   ]
  },
  {
   "cell_type": "code",
   "execution_count": 40,
   "metadata": {},
   "outputs": [],
   "source": [
    "images_path = path + \"WIDER_val/images/\"\n",
    "file_path = path + \"wider_face_split/wider_face_val_bbx_gt.txt\"\n",
    "positive_path = path + \"WIDER_val/cropped images/positive/\"\n",
    "train = create_positive_set(file_path, images_path, positive_path, 2000)"
   ]
  },
  {
   "cell_type": "code",
   "execution_count": 6,
   "metadata": {},
   "outputs": [],
   "source": [
    "def intersect_images(images_to_avoid, start_x, start_y, width, height):\n",
    "    end_x = start_x + width\n",
    "    end_y = start_y + height\n",
    "    for avoid in images_to_avoid:\n",
    "        center_avoid_x = avoid[0] + avoid[3]//2\n",
    "        center_avoid_y = avoid[1] + avoid[2]//2\n",
    "        if center_avoid_x > start_x and center_avoid_x < end_x \\\n",
    "        and center_avoid_y > start_y and center_avoid_y < end_y:\n",
    "            return True\n",
    "    center_x = start_x + width//2\n",
    "    center_y = start_y + height//2\n",
    "    for avoid in images_to_avoid:\n",
    "        end_avoid_x = avoid[0] + avoid[3]\n",
    "        end_avoid_y = avoid[1] + avoid[2]\n",
    "        if center_x > avoid[0] and center_x < end_avoid_x \\\n",
    "        and center_y > avoid[0] and center_y < end_avoid_y:\n",
    "            return True\n",
    "    return False"
   ]
  },
  {
   "cell_type": "code",
   "execution_count": 22,
   "metadata": {},
   "outputs": [],
   "source": [
    "def create_negative_set(file_path, image_set_path, save_path, limit):\n",
    "    count = 0\n",
    "    with open(file_path, \"r\") as file_reader:\n",
    "        while True:\n",
    "            image_path = file_reader.readline().rstrip()\n",
    "            img = cv2.imread(image_set_path + image_path)\n",
    "            try:\n",
    "                img_height, img_width, _ = img.shape\n",
    "            except Exception as e:\n",
    "                print(image_path)\n",
    "                return\n",
    "            num_faces = int(file_reader.readline().rstrip())\n",
    "            #List of images from which I have to avoid\n",
    "            images_to_avoid = []\n",
    "            if num_faces > 5:\n",
    "                for face in range(num_faces):\n",
    "                    file_reader.readline()\n",
    "                continue\n",
    "            else:\n",
    "                if num_faces != 0:\n",
    "                    for face in range(num_faces):\n",
    "                        images_to_avoid.append([int(elem) for elem in file_reader.readline().split()[:4]])\n",
    "                else:\n",
    "                    file_reader.readline().split()\n",
    "            #Going to create 5 images per photo, to force more diversity between photos\n",
    "            for new_img in range(5):\n",
    "                h = randint(32, 64)\n",
    "                w = randint(32, 64)\n",
    "                while True:\n",
    "                    x = randint(0, img_width - w - 1)\n",
    "                    y = randint(0, img_height - h - 1)\n",
    "                    if not intersect_images(images_to_avoid, x, y, h, w):\n",
    "                        break\n",
    "                cv2.imwrite(save_path + \"Image\"+str(count)+\".jpg\", crop_image(img, x, y, h, w))\n",
    "                count += 1\n",
    "                if count > limit:\n",
    "                    return \n",
    "            "
   ]
  },
  {
   "cell_type": "code",
   "execution_count": null,
   "metadata": {},
   "outputs": [],
   "source": [
    "images_path = path + \"WIDER_train/images/\"\n",
    "file_path = path + \"wider_face_split/wider_face_train_bbx_gt.txt\"\n",
    "negative_path = path + \"WIDER_train/cropped images/negative/\"\n",
    "create_negative_set(file_path, images_path, negative_path, 10000)"
   ]
  },
  {
   "cell_type": "code",
   "execution_count": null,
   "metadata": {},
   "outputs": [],
   "source": [
    "images_path = path + \"WIDER_val/images/\"\n",
    "file_path = path + \"wider_face_split/wider_face_val_bbx_gt.txt\"\n",
    "negative_path = path + \"WIDER_val/cropped images/negative/\"\n",
    "create_negative_set(file_path, images_path, negative_path, 2000)"
   ]
  },
  {
   "cell_type": "code",
   "execution_count": null,
   "metadata": {},
   "outputs": [],
   "source": []
  }
 ],
 "metadata": {
  "kernelspec": {
   "display_name": "Python 3",
   "language": "python",
   "name": "python3"
  },
  "language_info": {
   "codemirror_mode": {
    "name": "ipython",
    "version": 3
   },
   "file_extension": ".py",
   "mimetype": "text/x-python",
   "name": "python",
   "nbconvert_exporter": "python",
   "pygments_lexer": "ipython3",
   "version": "3.7.4"
  }
 },
 "nbformat": 4,
 "nbformat_minor": 2
}
