{
 "cells": [
  {
   "cell_type": "markdown",
   "metadata": {},
   "source": [
    "# MTCNN"
   ]
  },
  {
   "cell_type": "markdown",
   "metadata": {},
   "source": [
    "## Description\n",
    "Stuff"
   ]
  },
  {
   "cell_type": "code",
   "execution_count": 40,
   "metadata": {},
   "outputs": [],
   "source": [
    "from matplotlib import pyplot\n",
    "from matplotlib.patches import Rectangle\n",
    "import mtcnn\n",
    "from os import listdir\n",
    "from os.path import isfile, join\n",
    "import time"
   ]
  },
  {
   "cell_type": "code",
   "execution_count": 3,
   "metadata": {},
   "outputs": [],
   "source": [
    "model = mtcnn.MTCNN()"
   ]
  },
  {
   "cell_type": "code",
   "execution_count": 4,
   "metadata": {},
   "outputs": [],
   "source": [
    "# draw an image with detected objects\n",
    "def draw_image_with_boxes(filename, result_list):\n",
    "    # load the image\n",
    "    data = pyplot.imread(filename)\n",
    "    # plot the image\n",
    "    pyplot.imshow(data)\n",
    "    # get the context for drawing boxes\n",
    "    ax = pyplot.gca()\n",
    "    # plot each box\n",
    "    for result in result_list:\n",
    "        # get coordinates\n",
    "        x, y, width, height = result['box']\n",
    "        # create the shape\n",
    "        rect = Rectangle((x, y), width, height, fill=False, color='red')\n",
    "        # draw the box\n",
    "        ax.add_patch(rect)\n",
    "    # show the plot\n",
    "    pyplot.show()"
   ]
  },
  {
   "cell_type": "code",
   "execution_count": 10,
   "metadata": {},
   "outputs": [],
   "source": [
    "def singular_test(model):\n",
    "    filename = \"dg.jpg\"\n",
    "    pixels = pyplot.imread(filename)\n",
    "    faces = model.detect_faces(pixels)\n",
    "    draw_image_with_boxes(filename, faces)"
   ]
  },
  {
   "cell_type": "code",
   "execution_count": 48,
   "metadata": {},
   "outputs": [],
   "source": [
    "def comprehensive_test(model, filename, results_file):\n",
    "    list_imgs = [join(filename, f) for f in listdir(filename) if isfile(join(filename, f))]\n",
    "    results = open(results_file, \"w\")\n",
    "    results.close()\n",
    "    for img in list_imgs:\n",
    "        pixels = pyplot.imread(img)\n",
    "        faces = [[str(coord) for coord in detected[\"box\"]] for detected in model.detect_faces(pixels)]\n",
    "        with open(results_file, \"a\") as results:\n",
    "            results.write(img.split(\"/\")[-1])\n",
    "            results.write(str(len(faces)) + '\\n')\n",
    "            for face in faces:\n",
    "                results.write(\" \".join(face) + \"\\n\")"
   ]
  },
  {
   "cell_type": "code",
   "execution_count": 54,
   "metadata": {},
   "outputs": [],
   "source": [
    "def compare_results(results_file, expected_file):\n",
    "    image_faces = {}\n",
    "    with open(expected_file, \"r\") as reader:\n",
    "        while True:\n",
    "            image_dir = reader.readline()\n",
    "            if not image_dir: \n",
    "                break\n",
    "            image_faces[image_dir] = []\n",
    "            num_faces = int(reader.readline())\n",
    "            for i in range(num_faces):\n",
    "                image_faces[image_dir].append([int(elem) for elem in reader.readline().rstrip().split()])\n",
    "    true_pos = 0\n",
    "    false_pos = 0\n",
    "    false_neg = 0\n",
    "    with open(results_file, \"r\") as reader:\n",
    "        while True:\n",
    "            image_dir = reader.readline()\n",
    "            if not image_dir:\n",
    "                return true_pos, false_pos, false_neg\n",
    "            expected_images = image_faces[image_dir]\n",
    "            num_found_faces = int(reader.readline())\n",
    "            for i in range(num_found_faces):\n",
    "                start_x, start_y, width, height = [int(elem) for elem in reader.readline().split()]\n",
    "                ## In order to be recognized as a face, it has to be within bounds, therfore\n",
    "                compatible_index = -1\n",
    "                for i in range(len(expected_images)):\n",
    "                    expected_face = expected_images[i]\n",
    "                    if start_x > expected_face[0] and start_y > expected_face[1] \\\n",
    "                    and start_x + width < expected_face[2] and start_y < expected_face[3]:\n",
    "                        compatible_index = i\n",
    "                        break\n",
    "                if compatible_index != -1:\n",
    "                    true_pos += 1\n",
    "                    expected_images.pop(compatible_index)\n",
    "                else:\n",
    "                    false_pos += 1\n",
    "            false_neg += len(expected_images)"
   ]
  },
  {
   "cell_type": "code",
   "execution_count": 50,
   "metadata": {},
   "outputs": [
    {
     "name": "stdout",
     "output_type": "stream",
     "text": [
      "It took 321.43192172050476 to finish results\n"
     ]
    }
   ],
   "source": [
    "filename = \"./Image Resources/Dataset/WIDER_test/images\"\n",
    "start = time.time()\n",
    "comprehensive_test(model, filename, \"mtcnn_results.txt\")\n",
    "end = time.time()\n",
    "print(\"It took \" + str(end - start) + \" to finish results\")"
   ]
  },
  {
   "cell_type": "code",
   "execution_count": 58,
   "metadata": {},
   "outputs": [
    {
     "name": "stdout",
     "output_type": "stream",
     "text": [
      "Correctly found 5208\n",
      "Incorrectly found 2989\n",
      "Could not find 14797\n"
     ]
    }
   ],
   "source": [
    "answers = \"./ImageResources/Dataset/WIDER_test/test.txt\"\n",
    "tp, fp, fn = compare_results(\"mtcnn_results.txt\", answers)\n",
    "print(\"Correctly found\", tp)\n",
    "print(\"Incorrectly found\", fp)\n",
    "print(\"Could not find\", fn)"
   ]
  },
  {
   "cell_type": "code",
   "execution_count": null,
   "metadata": {},
   "outputs": [],
   "source": []
  }
 ],
 "metadata": {
  "kernelspec": {
   "display_name": "Python 3",
   "language": "python",
   "name": "python3"
  },
  "language_info": {
   "codemirror_mode": {
    "name": "ipython",
    "version": 3
   },
   "file_extension": ".py",
   "mimetype": "text/x-python",
   "name": "python",
   "nbconvert_exporter": "python",
   "pygments_lexer": "ipython3",
   "version": "3.7.4"
  }
 },
 "nbformat": 4,
 "nbformat_minor": 2
}
