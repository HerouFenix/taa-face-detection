{
 "cells": [
  {
   "cell_type": "markdown",
   "metadata": {},
   "source": [
    "# MTCNN"
   ]
  },
  {
   "cell_type": "markdown",
   "metadata": {},
   "source": [
    "## Description\n",
    "Stuff"
   ]
  },
  {
   "cell_type": "code",
   "execution_count": 1,
   "metadata": {},
   "outputs": [
    {
     "name": "stderr",
     "output_type": "stream",
     "text": [
      "Using TensorFlow backend.\n"
     ]
    }
   ],
   "source": [
    "from matplotlib import pyplot\n",
    "from matplotlib.patches import Rectangle\n",
    "import mtcnn\n",
    "from os import listdir\n",
    "from os.path import isfile, join\n",
    "import time"
   ]
  },
  {
   "cell_type": "code",
   "execution_count": 2,
   "metadata": {},
   "outputs": [],
   "source": [
    "model = mtcnn.MTCNN()"
   ]
  },
  {
   "cell_type": "code",
   "execution_count": 3,
   "metadata": {},
   "outputs": [],
   "source": [
    "# draw an image with detected objects\n",
    "def draw_image_with_boxes(filename, result_list):\n",
    "    # load the image\n",
    "    data = pyplot.imread(filename)\n",
    "    # plot the image\n",
    "    pyplot.imshow(data)\n",
    "    # get the context for drawing boxes\n",
    "    ax = pyplot.gca()\n",
    "    # plot each box\n",
    "    for result in result_list:\n",
    "        # get coordinates\n",
    "        x, y, width, height = result['box']\n",
    "        # create the shape\n",
    "        rect = Rectangle((x, y), width, height, fill=False, color='red')\n",
    "        # draw the box\n",
    "        ax.add_patch(rect)\n",
    "    # show the plot\n",
    "    pyplot.show()"
   ]
  },
  {
   "cell_type": "code",
   "execution_count": 4,
   "metadata": {},
   "outputs": [],
   "source": [
    "def singular_test(model, filename):\n",
    "    pixels = pyplot.imread(filename)\n",
    "    faces = model.detect_faces(pixels)\n",
    "    draw_image_with_boxes(filename, faces)"
   ]
  },
  {
   "cell_type": "code",
   "execution_count": 8,
   "metadata": {},
   "outputs": [],
   "source": [
    "def comprehensive_test(model, filename, results_file):\n",
    "    list_imgs = [join(filename, f) for f in listdir(filename) if isfile(join(filename, f))]\n",
    "    results = open(results_file, \"w\")\n",
    "    results.close()\n",
    "    for img in list_imgs:\n",
    "        pixels = pyplot.imread(img)\n",
    "        faces = [detected[\"box\"] for detected in model.detect_faces(pixels)]\n",
    "        with open(results_file, \"a\") as results:\n",
    "            results.write(img.split(\"/\")[-1].rstrip() + \"\\n\")\n",
    "            results.write(str(len(faces)) + '\\n')\n",
    "            for face in faces:\n",
    "                face = [str(coord) for coord in face]\n",
    "                results.write(\" \".join(face) + \"\\n\")"
   ]
  },
  {
   "cell_type": "code",
   "execution_count": 9,
   "metadata": {},
   "outputs": [],
   "source": [
    "def compare_results(results_file, expected_file):\n",
    "    image_faces = {}\n",
    "    \n",
    "    with open(expected_file, \"r\") as reader:\n",
    "        while True:\n",
    "            image_dir = reader.readline()\n",
    "            if not image_dir: \n",
    "                break\n",
    "            image_faces[image_dir] = []\n",
    "            num_faces = int(reader.readline())\n",
    "            for i in range(num_faces):\n",
    "                image_faces[image_dir].append([int(elem) for elem in reader.readline().rstrip().split()])\n",
    "                \n",
    "    true_pos = 0\n",
    "    false_pos = 0\n",
    "    false_neg = 0\n",
    "    with open(results_file, \"r\") as reader:\n",
    "        while True:\n",
    "            image_dir = reader.readline()\n",
    "            \n",
    "            if not image_dir:\n",
    "                return true_pos, false_pos, false_neg\n",
    "            \n",
    "            expected_images = image_faces[image_dir]\n",
    "            num_found_faces = int(reader.readline())\n",
    "            \n",
    "            for i in range(num_found_faces):\n",
    "                start_x, start_y, width, height = [int(elem) for elem in reader.readline().split()]\n",
    "                ## In order to be recognized as a face, it has to be within bounds, therfore\n",
    "                compatible_index = -1\n",
    "                \n",
    "                for i in range(len(expected_images)):\n",
    "                    expected_face = expected_images[i]\n",
    "                    if start_x > expected_face[0] - 5 and start_y > expected_face[1] - 5 \\\n",
    "                    and start_x + width < expected_face[2] + 5 and start_y < expected_face[3] + 5:\n",
    "                        compatible_index = i\n",
    "                        break\n",
    "                        \n",
    "                if compatible_index != -1:\n",
    "                    true_pos += 1\n",
    "                    expected_images.pop(compatible_index)\n",
    "                else:\n",
    "                    false_pos += 1\n",
    "\n",
    "            false_neg += len(expected_images)"
   ]
  },
  {
   "cell_type": "code",
   "execution_count": 10,
   "metadata": {},
   "outputs": [
    {
     "name": "stdout",
     "output_type": "stream",
     "text": [
      "It took 330.1624495983124 to finish results\n"
     ]
    }
   ],
   "source": [
    "filename = \"./ImageResources/Dataset/WIDER_test/images\"\n",
    "start = time.time()\n",
    "comprehensive_test(model, filename, \"mtcnn_results.txt\")\n",
    "end = time.time()\n",
    "print(\"It took \" + str(end - start) + \" to finish results\")"
   ]
  },
  {
   "cell_type": "code",
   "execution_count": 11,
   "metadata": {},
   "outputs": [
    {
     "name": "stdout",
     "output_type": "stream",
     "text": [
      "Correctly found 7069\n",
      "Incorrectly found 1128\n",
      "Could not find 12936\n"
     ]
    }
   ],
   "source": [
    "answers = \"./ImageResources/Dataset/WIDER_test/test.txt\"\n",
    "tp, fp, fn = compare_results(\"mtcnn_results.txt\", answers)\n",
    "print(\"Correctly found\", tp)\n",
    "print(\"Incorrectly found\", fp)\n",
    "print(\"Could not find\", fn)"
   ]
  },
  {
   "cell_type": "code",
   "execution_count": 9,
   "metadata": {},
   "outputs": [],
   "source": [
    "def comprehensive_simple_test(model, filename):\n",
    "    list_imgs = [join(filename, f) for f in listdir(filename) if isfile(join(filename, f))]\n",
    "    counter=0\n",
    "    for img in list_imgs:\n",
    "        singular_test(model, img)\n",
    "        counter+=1\n",
    "        if counter >100: break"
   ]
  },
  {
   "cell_type": "code",
   "execution_count": 12,
   "metadata": {},
   "outputs": [
    {
     "name": "stdout",
     "output_type": "stream",
     "text": [
      "It took 334.6818594932556 to finish results\n"
     ]
    }
   ],
   "source": [
    "filename = \"./ImageResources/Dataset/WIDER_test/cropped_images\"\n",
    "start = time.time()\n",
    "comprehensive_test(model, filename, \"mtcnn_binary_results.txt\")\n",
    "end = time.time()\n",
    "print(\"It took \" + str(end - start) + \" to finish results\")"
   ]
  },
  {
   "cell_type": "code",
   "execution_count": 13,
   "metadata": {},
   "outputs": [],
   "source": [
    "def compare_bin_results(img_dir, results):\n",
    "    import cv2\n",
    "    true_pos = 0\n",
    "    true_neg = 0\n",
    "    false_pos = 0\n",
    "    false_neg = 0\n",
    "    with open(results, \"r\") as reader:\n",
    "        while True:\n",
    "            image = reader.readline().rstrip()\n",
    "            if not image:\n",
    "                return true_pos, true_neg, false_pos, false_neg\n",
    "            num_found_faces = int(reader.readline())\n",
    "            if num_found_faces == 0:\n",
    "                if image[0:3] == \"Pos\": \n",
    "                    false_neg += 1\n",
    "                else:\n",
    "                    true_neg += 1\n",
    "            for i in range(num_found_faces):\n",
    "                start_x, start_y, width, height = [int(elem) for elem in reader.readline().split()]\n",
    "                if image[0:3] == \"Pos\": #It's a positive image, we check if width and height are closer to the image\n",
    "                    true_pos += 1\n",
    "                    #real_height, real_width, _ = cv2.imread(img_dir + image).shape\n",
    "                    #if abs(real_width - width) < 0.25*real_width and abs(real_height - height) < 0.25*real_height:\n",
    "                    #    true_pos += 1\n",
    "                    #else:\n",
    "                    #    false_pos += 1\n",
    "                else:\n",
    "                    false_pos += 1"
   ]
  },
  {
   "cell_type": "code",
   "execution_count": 14,
   "metadata": {},
   "outputs": [
    {
     "name": "stdout",
     "output_type": "stream",
     "text": [
      "Correctly found 6874\n",
      "Corerctly could not find 9964\n",
      "Incorrectly found 39\n",
      "Could not find 3128\n"
     ]
    }
   ],
   "source": [
    "filename = \"./ImageResources/Dataset/WIDER_test/cropped_images\"\n",
    "tp, tn, fp, fn = compare_bin_results(filename+\"/\", \"mtcnn_binary_results.txt\")\n",
    "print(\"Correctly found\", tp)\n",
    "print(\"Corerctly could not find\", tn)\n",
    "print(\"Incorrectly found\", fp)\n",
    "print(\"Could not find\", fn)"
   ]
  },
  {
   "cell_type": "code",
   "execution_count": null,
   "metadata": {},
   "outputs": [],
   "source": []
  },
  {
   "cell_type": "code",
   "execution_count": null,
   "metadata": {},
   "outputs": [],
   "source": []
  }
 ],
 "metadata": {
  "kernelspec": {
   "display_name": "Python 3",
   "language": "python",
   "name": "python3"
  },
  "language_info": {
   "codemirror_mode": {
    "name": "ipython",
    "version": 3
   },
   "file_extension": ".py",
   "mimetype": "text/x-python",
   "name": "python",
   "nbconvert_exporter": "python",
   "pygments_lexer": "ipython3",
   "version": "3.7.4"
  }
 },
 "nbformat": 4,
 "nbformat_minor": 2
}
